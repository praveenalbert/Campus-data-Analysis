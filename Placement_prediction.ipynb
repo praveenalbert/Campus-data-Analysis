{
 "cells": [
  {
   "cell_type": "code",
   "execution_count": 1,
   "metadata": {
    "colab": {
     "base_uri": "https://localhost:8080/",
     "height": 53
    },
    "id": "Ag65fm31EqjI",
    "outputId": "11c8d0f8-07f4-47ed-c21b-4b27bcde2c76"
   },
   "outputs": [
    {
     "ename": "EndpointConnectionError",
     "evalue": "Could not connect to the endpoint URL: \"https://s3.private.eu-gb.cloud-object-storage.appdomain.cloud/ibm2023-donotdelete-pr-w0iooznfnv6bcv/All%20tiers%20data%20%281%29.csv\"",
     "output_type": "error",
     "traceback": [
      "\u001b[1;31m---------------------------------------------------------------------------\u001b[0m",
      "\u001b[1;31mTimeoutError\u001b[0m                              Traceback (most recent call last)",
      "\u001b[1;32mc:\\users\\partheev\\appdata\\local\\programs\\python\\python39\\lib\\site-packages\\urllib3\\connection.py\u001b[0m in \u001b[0;36m_new_conn\u001b[1;34m(self)\u001b[0m\n\u001b[0;32m    173\u001b[0m         \u001b[1;32mtry\u001b[0m\u001b[1;33m:\u001b[0m\u001b[1;33m\u001b[0m\u001b[1;33m\u001b[0m\u001b[0m\n\u001b[1;32m--> 174\u001b[1;33m             conn = connection.create_connection(\n\u001b[0m\u001b[0;32m    175\u001b[0m                 \u001b[1;33m(\u001b[0m\u001b[0mself\u001b[0m\u001b[1;33m.\u001b[0m\u001b[0m_dns_host\u001b[0m\u001b[1;33m,\u001b[0m \u001b[0mself\u001b[0m\u001b[1;33m.\u001b[0m\u001b[0mport\u001b[0m\u001b[1;33m)\u001b[0m\u001b[1;33m,\u001b[0m \u001b[0mself\u001b[0m\u001b[1;33m.\u001b[0m\u001b[0mtimeout\u001b[0m\u001b[1;33m,\u001b[0m \u001b[1;33m**\u001b[0m\u001b[0mextra_kw\u001b[0m\u001b[1;33m\u001b[0m\u001b[1;33m\u001b[0m\u001b[0m\n",
      "\u001b[1;32mc:\\users\\partheev\\appdata\\local\\programs\\python\\python39\\lib\\site-packages\\urllib3\\util\\connection.py\u001b[0m in \u001b[0;36mcreate_connection\u001b[1;34m(address, timeout, source_address, socket_options)\u001b[0m\n\u001b[0;32m     94\u001b[0m     \u001b[1;32mif\u001b[0m \u001b[0merr\u001b[0m \u001b[1;32mis\u001b[0m \u001b[1;32mnot\u001b[0m \u001b[1;32mNone\u001b[0m\u001b[1;33m:\u001b[0m\u001b[1;33m\u001b[0m\u001b[1;33m\u001b[0m\u001b[0m\n\u001b[1;32m---> 95\u001b[1;33m         \u001b[1;32mraise\u001b[0m \u001b[0merr\u001b[0m\u001b[1;33m\u001b[0m\u001b[1;33m\u001b[0m\u001b[0m\n\u001b[0m\u001b[0;32m     96\u001b[0m \u001b[1;33m\u001b[0m\u001b[0m\n",
      "\u001b[1;32mc:\\users\\partheev\\appdata\\local\\programs\\python\\python39\\lib\\site-packages\\urllib3\\util\\connection.py\u001b[0m in \u001b[0;36mcreate_connection\u001b[1;34m(address, timeout, source_address, socket_options)\u001b[0m\n\u001b[0;32m     84\u001b[0m                 \u001b[0msock\u001b[0m\u001b[1;33m.\u001b[0m\u001b[0mbind\u001b[0m\u001b[1;33m(\u001b[0m\u001b[0msource_address\u001b[0m\u001b[1;33m)\u001b[0m\u001b[1;33m\u001b[0m\u001b[1;33m\u001b[0m\u001b[0m\n\u001b[1;32m---> 85\u001b[1;33m             \u001b[0msock\u001b[0m\u001b[1;33m.\u001b[0m\u001b[0mconnect\u001b[0m\u001b[1;33m(\u001b[0m\u001b[0msa\u001b[0m\u001b[1;33m)\u001b[0m\u001b[1;33m\u001b[0m\u001b[1;33m\u001b[0m\u001b[0m\n\u001b[0m\u001b[0;32m     86\u001b[0m             \u001b[1;32mreturn\u001b[0m \u001b[0msock\u001b[0m\u001b[1;33m\u001b[0m\u001b[1;33m\u001b[0m\u001b[0m\n",
      "\u001b[1;31mTimeoutError\u001b[0m: [WinError 10060] A connection attempt failed because the connected party did not properly respond after a period of time, or established connection failed because connected host has failed to respond",
      "\nDuring handling of the above exception, another exception occurred:\n",
      "\u001b[1;31mNewConnectionError\u001b[0m                        Traceback (most recent call last)",
      "\u001b[1;32mc:\\users\\partheev\\appdata\\local\\programs\\python\\python39\\lib\\site-packages\\ibm_botocore\\httpsession.py\u001b[0m in \u001b[0;36msend\u001b[1;34m(self, request)\u001b[0m\n\u001b[0;32m    404\u001b[0m             \u001b[0mrequest_target\u001b[0m \u001b[1;33m=\u001b[0m \u001b[0mself\u001b[0m\u001b[1;33m.\u001b[0m\u001b[0m_get_request_target\u001b[0m\u001b[1;33m(\u001b[0m\u001b[0mrequest\u001b[0m\u001b[1;33m.\u001b[0m\u001b[0murl\u001b[0m\u001b[1;33m,\u001b[0m \u001b[0mproxy_url\u001b[0m\u001b[1;33m)\u001b[0m\u001b[1;33m\u001b[0m\u001b[1;33m\u001b[0m\u001b[0m\n\u001b[1;32m--> 405\u001b[1;33m             urllib_response = conn.urlopen(\n\u001b[0m\u001b[0;32m    406\u001b[0m                 \u001b[0mmethod\u001b[0m\u001b[1;33m=\u001b[0m\u001b[0mrequest\u001b[0m\u001b[1;33m.\u001b[0m\u001b[0mmethod\u001b[0m\u001b[1;33m,\u001b[0m\u001b[1;33m\u001b[0m\u001b[1;33m\u001b[0m\u001b[0m\n",
      "\u001b[1;32mc:\\users\\partheev\\appdata\\local\\programs\\python\\python39\\lib\\site-packages\\urllib3\\connectionpool.py\u001b[0m in \u001b[0;36murlopen\u001b[1;34m(self, method, url, body, headers, retries, redirect, assert_same_host, timeout, pool_timeout, release_conn, chunked, body_pos, **response_kw)\u001b[0m\n\u001b[0;32m    786\u001b[0m \u001b[1;33m\u001b[0m\u001b[0m\n\u001b[1;32m--> 787\u001b[1;33m             retries = retries.increment(\n\u001b[0m\u001b[0;32m    788\u001b[0m                 \u001b[0mmethod\u001b[0m\u001b[1;33m,\u001b[0m \u001b[0murl\u001b[0m\u001b[1;33m,\u001b[0m \u001b[0merror\u001b[0m\u001b[1;33m=\u001b[0m\u001b[0me\u001b[0m\u001b[1;33m,\u001b[0m \u001b[0m_pool\u001b[0m\u001b[1;33m=\u001b[0m\u001b[0mself\u001b[0m\u001b[1;33m,\u001b[0m \u001b[0m_stacktrace\u001b[0m\u001b[1;33m=\u001b[0m\u001b[0msys\u001b[0m\u001b[1;33m.\u001b[0m\u001b[0mexc_info\u001b[0m\u001b[1;33m(\u001b[0m\u001b[1;33m)\u001b[0m\u001b[1;33m[\u001b[0m\u001b[1;36m2\u001b[0m\u001b[1;33m]\u001b[0m\u001b[1;33m\u001b[0m\u001b[1;33m\u001b[0m\u001b[0m\n",
      "\u001b[1;32mc:\\users\\partheev\\appdata\\local\\programs\\python\\python39\\lib\\site-packages\\urllib3\\util\\retry.py\u001b[0m in \u001b[0;36mincrement\u001b[1;34m(self, method, url, response, error, _pool, _stacktrace)\u001b[0m\n\u001b[0;32m    524\u001b[0m             \u001b[1;31m# Disabled, indicate to re-raise the error.\u001b[0m\u001b[1;33m\u001b[0m\u001b[1;33m\u001b[0m\u001b[1;33m\u001b[0m\u001b[0m\n\u001b[1;32m--> 525\u001b[1;33m             \u001b[1;32mraise\u001b[0m \u001b[0msix\u001b[0m\u001b[1;33m.\u001b[0m\u001b[0mreraise\u001b[0m\u001b[1;33m(\u001b[0m\u001b[0mtype\u001b[0m\u001b[1;33m(\u001b[0m\u001b[0merror\u001b[0m\u001b[1;33m)\u001b[0m\u001b[1;33m,\u001b[0m \u001b[0merror\u001b[0m\u001b[1;33m,\u001b[0m \u001b[0m_stacktrace\u001b[0m\u001b[1;33m)\u001b[0m\u001b[1;33m\u001b[0m\u001b[1;33m\u001b[0m\u001b[0m\n\u001b[0m\u001b[0;32m    526\u001b[0m \u001b[1;33m\u001b[0m\u001b[0m\n",
      "\u001b[1;32mc:\\users\\partheev\\appdata\\local\\programs\\python\\python39\\lib\\site-packages\\urllib3\\packages\\six.py\u001b[0m in \u001b[0;36mreraise\u001b[1;34m(tp, value, tb)\u001b[0m\n\u001b[0;32m    769\u001b[0m                 \u001b[1;32mraise\u001b[0m \u001b[0mvalue\u001b[0m\u001b[1;33m.\u001b[0m\u001b[0mwith_traceback\u001b[0m\u001b[1;33m(\u001b[0m\u001b[0mtb\u001b[0m\u001b[1;33m)\u001b[0m\u001b[1;33m\u001b[0m\u001b[1;33m\u001b[0m\u001b[0m\n\u001b[1;32m--> 770\u001b[1;33m             \u001b[1;32mraise\u001b[0m \u001b[0mvalue\u001b[0m\u001b[1;33m\u001b[0m\u001b[1;33m\u001b[0m\u001b[0m\n\u001b[0m\u001b[0;32m    771\u001b[0m         \u001b[1;32mfinally\u001b[0m\u001b[1;33m:\u001b[0m\u001b[1;33m\u001b[0m\u001b[1;33m\u001b[0m\u001b[0m\n",
      "\u001b[1;32mc:\\users\\partheev\\appdata\\local\\programs\\python\\python39\\lib\\site-packages\\urllib3\\connectionpool.py\u001b[0m in \u001b[0;36murlopen\u001b[1;34m(self, method, url, body, headers, retries, redirect, assert_same_host, timeout, pool_timeout, release_conn, chunked, body_pos, **response_kw)\u001b[0m\n\u001b[0;32m    702\u001b[0m             \u001b[1;31m# Make the request on the httplib connection object.\u001b[0m\u001b[1;33m\u001b[0m\u001b[1;33m\u001b[0m\u001b[1;33m\u001b[0m\u001b[0m\n\u001b[1;32m--> 703\u001b[1;33m             httplib_response = self._make_request(\n\u001b[0m\u001b[0;32m    704\u001b[0m                 \u001b[0mconn\u001b[0m\u001b[1;33m,\u001b[0m\u001b[1;33m\u001b[0m\u001b[1;33m\u001b[0m\u001b[0m\n",
      "\u001b[1;32mc:\\users\\partheev\\appdata\\local\\programs\\python\\python39\\lib\\site-packages\\urllib3\\connectionpool.py\u001b[0m in \u001b[0;36m_make_request\u001b[1;34m(self, conn, method, url, timeout, chunked, **httplib_request_kw)\u001b[0m\n\u001b[0;32m    385\u001b[0m         \u001b[1;32mtry\u001b[0m\u001b[1;33m:\u001b[0m\u001b[1;33m\u001b[0m\u001b[1;33m\u001b[0m\u001b[0m\n\u001b[1;32m--> 386\u001b[1;33m             \u001b[0mself\u001b[0m\u001b[1;33m.\u001b[0m\u001b[0m_validate_conn\u001b[0m\u001b[1;33m(\u001b[0m\u001b[0mconn\u001b[0m\u001b[1;33m)\u001b[0m\u001b[1;33m\u001b[0m\u001b[1;33m\u001b[0m\u001b[0m\n\u001b[0m\u001b[0;32m    387\u001b[0m         \u001b[1;32mexcept\u001b[0m \u001b[1;33m(\u001b[0m\u001b[0mSocketTimeout\u001b[0m\u001b[1;33m,\u001b[0m \u001b[0mBaseSSLError\u001b[0m\u001b[1;33m)\u001b[0m \u001b[1;32mas\u001b[0m \u001b[0me\u001b[0m\u001b[1;33m:\u001b[0m\u001b[1;33m\u001b[0m\u001b[1;33m\u001b[0m\u001b[0m\n",
      "\u001b[1;32mc:\\users\\partheev\\appdata\\local\\programs\\python\\python39\\lib\\site-packages\\urllib3\\connectionpool.py\u001b[0m in \u001b[0;36m_validate_conn\u001b[1;34m(self, conn)\u001b[0m\n\u001b[0;32m   1041\u001b[0m         \u001b[1;32mif\u001b[0m \u001b[1;32mnot\u001b[0m \u001b[0mgetattr\u001b[0m\u001b[1;33m(\u001b[0m\u001b[0mconn\u001b[0m\u001b[1;33m,\u001b[0m \u001b[1;34m\"sock\"\u001b[0m\u001b[1;33m,\u001b[0m \u001b[1;32mNone\u001b[0m\u001b[1;33m)\u001b[0m\u001b[1;33m:\u001b[0m  \u001b[1;31m# AppEngine might not have  `.sock`\u001b[0m\u001b[1;33m\u001b[0m\u001b[1;33m\u001b[0m\u001b[0m\n\u001b[1;32m-> 1042\u001b[1;33m             \u001b[0mconn\u001b[0m\u001b[1;33m.\u001b[0m\u001b[0mconnect\u001b[0m\u001b[1;33m(\u001b[0m\u001b[1;33m)\u001b[0m\u001b[1;33m\u001b[0m\u001b[1;33m\u001b[0m\u001b[0m\n\u001b[0m\u001b[0;32m   1043\u001b[0m \u001b[1;33m\u001b[0m\u001b[0m\n",
      "\u001b[1;32mc:\\users\\partheev\\appdata\\local\\programs\\python\\python39\\lib\\site-packages\\urllib3\\connection.py\u001b[0m in \u001b[0;36mconnect\u001b[1;34m(self)\u001b[0m\n\u001b[0;32m    357\u001b[0m         \u001b[1;31m# Add certificate verification\u001b[0m\u001b[1;33m\u001b[0m\u001b[1;33m\u001b[0m\u001b[1;33m\u001b[0m\u001b[0m\n\u001b[1;32m--> 358\u001b[1;33m         \u001b[0mself\u001b[0m\u001b[1;33m.\u001b[0m\u001b[0msock\u001b[0m \u001b[1;33m=\u001b[0m \u001b[0mconn\u001b[0m \u001b[1;33m=\u001b[0m \u001b[0mself\u001b[0m\u001b[1;33m.\u001b[0m\u001b[0m_new_conn\u001b[0m\u001b[1;33m(\u001b[0m\u001b[1;33m)\u001b[0m\u001b[1;33m\u001b[0m\u001b[1;33m\u001b[0m\u001b[0m\n\u001b[0m\u001b[0;32m    359\u001b[0m         \u001b[0mhostname\u001b[0m \u001b[1;33m=\u001b[0m \u001b[0mself\u001b[0m\u001b[1;33m.\u001b[0m\u001b[0mhost\u001b[0m\u001b[1;33m\u001b[0m\u001b[1;33m\u001b[0m\u001b[0m\n",
      "\u001b[1;32mc:\\users\\partheev\\appdata\\local\\programs\\python\\python39\\lib\\site-packages\\urllib3\\connection.py\u001b[0m in \u001b[0;36m_new_conn\u001b[1;34m(self)\u001b[0m\n\u001b[0;32m    185\u001b[0m         \u001b[1;32mexcept\u001b[0m \u001b[0mSocketError\u001b[0m \u001b[1;32mas\u001b[0m \u001b[0me\u001b[0m\u001b[1;33m:\u001b[0m\u001b[1;33m\u001b[0m\u001b[1;33m\u001b[0m\u001b[0m\n\u001b[1;32m--> 186\u001b[1;33m             raise NewConnectionError(\n\u001b[0m\u001b[0;32m    187\u001b[0m                 \u001b[0mself\u001b[0m\u001b[1;33m,\u001b[0m \u001b[1;34m\"Failed to establish a new connection: %s\"\u001b[0m \u001b[1;33m%\u001b[0m \u001b[0me\u001b[0m\u001b[1;33m\u001b[0m\u001b[1;33m\u001b[0m\u001b[0m\n",
      "\u001b[1;31mNewConnectionError\u001b[0m: <ibm_botocore.awsrequest.AWSHTTPSConnection object at 0x000001B32E440580>: Failed to establish a new connection: [WinError 10060] A connection attempt failed because the connected party did not properly respond after a period of time, or established connection failed because connected host has failed to respond",
      "\nDuring handling of the above exception, another exception occurred:\n",
      "\u001b[1;31mEndpointConnectionError\u001b[0m                   Traceback (most recent call last)",
      "\u001b[1;32m~\\AppData\\Local\\Temp/ipykernel_13732/250118804.py\u001b[0m in \u001b[0;36m<module>\u001b[1;34m\u001b[0m\n\u001b[0;32m     20\u001b[0m \u001b[0mobject_key\u001b[0m \u001b[1;33m=\u001b[0m \u001b[1;34m'All tiers data (1).csv'\u001b[0m\u001b[1;33m\u001b[0m\u001b[1;33m\u001b[0m\u001b[0m\n\u001b[0;32m     21\u001b[0m \u001b[1;33m\u001b[0m\u001b[0m\n\u001b[1;32m---> 22\u001b[1;33m \u001b[0mbody\u001b[0m \u001b[1;33m=\u001b[0m \u001b[0mcos_client\u001b[0m\u001b[1;33m.\u001b[0m\u001b[0mget_object\u001b[0m\u001b[1;33m(\u001b[0m\u001b[0mBucket\u001b[0m\u001b[1;33m=\u001b[0m\u001b[0mbucket\u001b[0m\u001b[1;33m,\u001b[0m\u001b[0mKey\u001b[0m\u001b[1;33m=\u001b[0m\u001b[0mobject_key\u001b[0m\u001b[1;33m)\u001b[0m\u001b[1;33m[\u001b[0m\u001b[1;34m'Body'\u001b[0m\u001b[1;33m]\u001b[0m\u001b[1;33m\u001b[0m\u001b[1;33m\u001b[0m\u001b[0m\n\u001b[0m\u001b[0;32m     23\u001b[0m \u001b[1;31m# add missing __iter__ method, so pandas accepts body as file-like object\u001b[0m\u001b[1;33m\u001b[0m\u001b[1;33m\u001b[0m\u001b[1;33m\u001b[0m\u001b[0m\n\u001b[0;32m     24\u001b[0m \u001b[1;32mif\u001b[0m \u001b[1;32mnot\u001b[0m \u001b[0mhasattr\u001b[0m\u001b[1;33m(\u001b[0m\u001b[0mbody\u001b[0m\u001b[1;33m,\u001b[0m \u001b[1;34m\"__iter__\"\u001b[0m\u001b[1;33m)\u001b[0m\u001b[1;33m:\u001b[0m \u001b[0mbody\u001b[0m\u001b[1;33m.\u001b[0m\u001b[0m__iter__\u001b[0m \u001b[1;33m=\u001b[0m \u001b[0mtypes\u001b[0m\u001b[1;33m.\u001b[0m\u001b[0mMethodType\u001b[0m\u001b[1;33m(\u001b[0m \u001b[0m__iter__\u001b[0m\u001b[1;33m,\u001b[0m \u001b[0mbody\u001b[0m \u001b[1;33m)\u001b[0m\u001b[1;33m\u001b[0m\u001b[1;33m\u001b[0m\u001b[0m\n",
      "\u001b[1;32mc:\\users\\partheev\\appdata\\local\\programs\\python\\python39\\lib\\site-packages\\ibm_botocore\\client.py\u001b[0m in \u001b[0;36m_api_call\u001b[1;34m(self, *args, **kwargs)\u001b[0m\n\u001b[0;32m    399\u001b[0m                     \"%s() only accepts keyword arguments.\" % py_operation_name)\n\u001b[0;32m    400\u001b[0m             \u001b[1;31m# The \"self\" in this scope is referring to the BaseClient.\u001b[0m\u001b[1;33m\u001b[0m\u001b[1;33m\u001b[0m\u001b[1;33m\u001b[0m\u001b[0m\n\u001b[1;32m--> 401\u001b[1;33m             \u001b[1;32mreturn\u001b[0m \u001b[0mself\u001b[0m\u001b[1;33m.\u001b[0m\u001b[0m_make_api_call\u001b[0m\u001b[1;33m(\u001b[0m\u001b[0moperation_name\u001b[0m\u001b[1;33m,\u001b[0m \u001b[0mkwargs\u001b[0m\u001b[1;33m)\u001b[0m\u001b[1;33m\u001b[0m\u001b[1;33m\u001b[0m\u001b[0m\n\u001b[0m\u001b[0;32m    402\u001b[0m \u001b[1;33m\u001b[0m\u001b[0m\n\u001b[0;32m    403\u001b[0m         \u001b[0m_api_call\u001b[0m\u001b[1;33m.\u001b[0m\u001b[0m__name__\u001b[0m \u001b[1;33m=\u001b[0m \u001b[0mstr\u001b[0m\u001b[1;33m(\u001b[0m\u001b[0mpy_operation_name\u001b[0m\u001b[1;33m)\u001b[0m\u001b[1;33m\u001b[0m\u001b[1;33m\u001b[0m\u001b[0m\n",
      "\u001b[1;32mc:\\users\\partheev\\appdata\\local\\programs\\python\\python39\\lib\\site-packages\\ibm_botocore\\client.py\u001b[0m in \u001b[0;36m_make_api_call\u001b[1;34m(self, operation_name, api_params)\u001b[0m\n\u001b[0;32m    718\u001b[0m         \u001b[1;32melse\u001b[0m\u001b[1;33m:\u001b[0m\u001b[1;33m\u001b[0m\u001b[1;33m\u001b[0m\u001b[0m\n\u001b[0;32m    719\u001b[0m             \u001b[0mapply_request_checksum\u001b[0m\u001b[1;33m(\u001b[0m\u001b[0mrequest_dict\u001b[0m\u001b[1;33m)\u001b[0m\u001b[1;33m\u001b[0m\u001b[1;33m\u001b[0m\u001b[0m\n\u001b[1;32m--> 720\u001b[1;33m             http, parsed_response = self._make_request(\n\u001b[0m\u001b[0;32m    721\u001b[0m                 operation_model, request_dict, request_context)\n\u001b[0;32m    722\u001b[0m \u001b[1;33m\u001b[0m\u001b[0m\n",
      "\u001b[1;32mc:\\users\\partheev\\appdata\\local\\programs\\python\\python39\\lib\\site-packages\\ibm_botocore\\client.py\u001b[0m in \u001b[0;36m_make_request\u001b[1;34m(self, operation_model, request_dict, request_context)\u001b[0m\n\u001b[0;32m    738\u001b[0m     \u001b[1;32mdef\u001b[0m \u001b[0m_make_request\u001b[0m\u001b[1;33m(\u001b[0m\u001b[0mself\u001b[0m\u001b[1;33m,\u001b[0m \u001b[0moperation_model\u001b[0m\u001b[1;33m,\u001b[0m \u001b[0mrequest_dict\u001b[0m\u001b[1;33m,\u001b[0m \u001b[0mrequest_context\u001b[0m\u001b[1;33m)\u001b[0m\u001b[1;33m:\u001b[0m\u001b[1;33m\u001b[0m\u001b[1;33m\u001b[0m\u001b[0m\n\u001b[0;32m    739\u001b[0m         \u001b[1;32mtry\u001b[0m\u001b[1;33m:\u001b[0m\u001b[1;33m\u001b[0m\u001b[1;33m\u001b[0m\u001b[0m\n\u001b[1;32m--> 740\u001b[1;33m             \u001b[1;32mreturn\u001b[0m \u001b[0mself\u001b[0m\u001b[1;33m.\u001b[0m\u001b[0m_endpoint\u001b[0m\u001b[1;33m.\u001b[0m\u001b[0mmake_request\u001b[0m\u001b[1;33m(\u001b[0m\u001b[0moperation_model\u001b[0m\u001b[1;33m,\u001b[0m \u001b[0mrequest_dict\u001b[0m\u001b[1;33m)\u001b[0m\u001b[1;33m\u001b[0m\u001b[1;33m\u001b[0m\u001b[0m\n\u001b[0m\u001b[0;32m    741\u001b[0m         \u001b[1;32mexcept\u001b[0m \u001b[0mException\u001b[0m \u001b[1;32mas\u001b[0m \u001b[0me\u001b[0m\u001b[1;33m:\u001b[0m\u001b[1;33m\u001b[0m\u001b[1;33m\u001b[0m\u001b[0m\n\u001b[0;32m    742\u001b[0m             self.meta.events.emit(\n",
      "\u001b[1;32mc:\\users\\partheev\\appdata\\local\\programs\\python\\python39\\lib\\site-packages\\ibm_botocore\\endpoint.py\u001b[0m in \u001b[0;36mmake_request\u001b[1;34m(self, operation_model, request_dict)\u001b[0m\n\u001b[0;32m    105\u001b[0m         logger.debug(\"Making request for %s with params: %s\",\n\u001b[0;32m    106\u001b[0m                      operation_model, request_dict)\n\u001b[1;32m--> 107\u001b[1;33m         \u001b[1;32mreturn\u001b[0m \u001b[0mself\u001b[0m\u001b[1;33m.\u001b[0m\u001b[0m_send_request\u001b[0m\u001b[1;33m(\u001b[0m\u001b[0mrequest_dict\u001b[0m\u001b[1;33m,\u001b[0m \u001b[0moperation_model\u001b[0m\u001b[1;33m)\u001b[0m\u001b[1;33m\u001b[0m\u001b[1;33m\u001b[0m\u001b[0m\n\u001b[0m\u001b[0;32m    108\u001b[0m \u001b[1;33m\u001b[0m\u001b[0m\n\u001b[0;32m    109\u001b[0m     \u001b[1;32mdef\u001b[0m \u001b[0mcreate_request\u001b[0m\u001b[1;33m(\u001b[0m\u001b[0mself\u001b[0m\u001b[1;33m,\u001b[0m \u001b[0mparams\u001b[0m\u001b[1;33m,\u001b[0m \u001b[0moperation_model\u001b[0m\u001b[1;33m=\u001b[0m\u001b[1;32mNone\u001b[0m\u001b[1;33m)\u001b[0m\u001b[1;33m:\u001b[0m\u001b[1;33m\u001b[0m\u001b[1;33m\u001b[0m\u001b[0m\n",
      "\u001b[1;32mc:\\users\\partheev\\appdata\\local\\programs\\python\\python39\\lib\\site-packages\\ibm_botocore\\endpoint.py\u001b[0m in \u001b[0;36m_send_request\u001b[1;34m(self, request_dict, operation_model)\u001b[0m\n\u001b[0;32m    181\u001b[0m         success_response, exception = self._get_response(\n\u001b[0;32m    182\u001b[0m             request, operation_model, context)\n\u001b[1;32m--> 183\u001b[1;33m         while self._needs_retry(attempts, operation_model, request_dict,\n\u001b[0m\u001b[0;32m    184\u001b[0m                                 success_response, exception):\n\u001b[0;32m    185\u001b[0m             \u001b[0mattempts\u001b[0m \u001b[1;33m+=\u001b[0m \u001b[1;36m1\u001b[0m\u001b[1;33m\u001b[0m\u001b[1;33m\u001b[0m\u001b[0m\n",
      "\u001b[1;32mc:\\users\\partheev\\appdata\\local\\programs\\python\\python39\\lib\\site-packages\\ibm_botocore\\endpoint.py\u001b[0m in \u001b[0;36m_needs_retry\u001b[1;34m(self, attempts, operation_model, request_dict, response, caught_exception)\u001b[0m\n\u001b[0;32m    303\u001b[0m             \u001b[0mservice_id\u001b[0m\u001b[1;33m,\u001b[0m\u001b[1;33m\u001b[0m\u001b[1;33m\u001b[0m\u001b[0m\n\u001b[0;32m    304\u001b[0m             operation_model.name)\n\u001b[1;32m--> 305\u001b[1;33m         responses = self._event_emitter.emit(\n\u001b[0m\u001b[0;32m    306\u001b[0m             \u001b[0mevent_name\u001b[0m\u001b[1;33m,\u001b[0m \u001b[0mresponse\u001b[0m\u001b[1;33m=\u001b[0m\u001b[0mresponse\u001b[0m\u001b[1;33m,\u001b[0m \u001b[0mendpoint\u001b[0m\u001b[1;33m=\u001b[0m\u001b[0mself\u001b[0m\u001b[1;33m,\u001b[0m\u001b[1;33m\u001b[0m\u001b[1;33m\u001b[0m\u001b[0m\n\u001b[0;32m    307\u001b[0m             \u001b[0moperation\u001b[0m\u001b[1;33m=\u001b[0m\u001b[0moperation_model\u001b[0m\u001b[1;33m,\u001b[0m \u001b[0mattempts\u001b[0m\u001b[1;33m=\u001b[0m\u001b[0mattempts\u001b[0m\u001b[1;33m,\u001b[0m\u001b[1;33m\u001b[0m\u001b[1;33m\u001b[0m\u001b[0m\n",
      "\u001b[1;32mc:\\users\\partheev\\appdata\\local\\programs\\python\\python39\\lib\\site-packages\\ibm_botocore\\hooks.py\u001b[0m in \u001b[0;36memit\u001b[1;34m(self, event_name, **kwargs)\u001b[0m\n\u001b[0;32m    355\u001b[0m     \u001b[1;32mdef\u001b[0m \u001b[0memit\u001b[0m\u001b[1;33m(\u001b[0m\u001b[0mself\u001b[0m\u001b[1;33m,\u001b[0m \u001b[0mevent_name\u001b[0m\u001b[1;33m,\u001b[0m \u001b[1;33m**\u001b[0m\u001b[0mkwargs\u001b[0m\u001b[1;33m)\u001b[0m\u001b[1;33m:\u001b[0m\u001b[1;33m\u001b[0m\u001b[1;33m\u001b[0m\u001b[0m\n\u001b[0;32m    356\u001b[0m         \u001b[0maliased_event_name\u001b[0m \u001b[1;33m=\u001b[0m \u001b[0mself\u001b[0m\u001b[1;33m.\u001b[0m\u001b[0m_alias_event_name\u001b[0m\u001b[1;33m(\u001b[0m\u001b[0mevent_name\u001b[0m\u001b[1;33m)\u001b[0m\u001b[1;33m\u001b[0m\u001b[1;33m\u001b[0m\u001b[0m\n\u001b[1;32m--> 357\u001b[1;33m         \u001b[1;32mreturn\u001b[0m \u001b[0mself\u001b[0m\u001b[1;33m.\u001b[0m\u001b[0m_emitter\u001b[0m\u001b[1;33m.\u001b[0m\u001b[0memit\u001b[0m\u001b[1;33m(\u001b[0m\u001b[0maliased_event_name\u001b[0m\u001b[1;33m,\u001b[0m \u001b[1;33m**\u001b[0m\u001b[0mkwargs\u001b[0m\u001b[1;33m)\u001b[0m\u001b[1;33m\u001b[0m\u001b[1;33m\u001b[0m\u001b[0m\n\u001b[0m\u001b[0;32m    358\u001b[0m \u001b[1;33m\u001b[0m\u001b[0m\n\u001b[0;32m    359\u001b[0m     \u001b[1;32mdef\u001b[0m \u001b[0memit_until_response\u001b[0m\u001b[1;33m(\u001b[0m\u001b[0mself\u001b[0m\u001b[1;33m,\u001b[0m \u001b[0mevent_name\u001b[0m\u001b[1;33m,\u001b[0m \u001b[1;33m**\u001b[0m\u001b[0mkwargs\u001b[0m\u001b[1;33m)\u001b[0m\u001b[1;33m:\u001b[0m\u001b[1;33m\u001b[0m\u001b[1;33m\u001b[0m\u001b[0m\n",
      "\u001b[1;32mc:\\users\\partheev\\appdata\\local\\programs\\python\\python39\\lib\\site-packages\\ibm_botocore\\hooks.py\u001b[0m in \u001b[0;36memit\u001b[1;34m(self, event_name, **kwargs)\u001b[0m\n\u001b[0;32m    226\u001b[0m                  \u001b[0mhandlers\u001b[0m\u001b[1;33m.\u001b[0m\u001b[1;33m\u001b[0m\u001b[1;33m\u001b[0m\u001b[0m\n\u001b[0;32m    227\u001b[0m         \"\"\"\n\u001b[1;32m--> 228\u001b[1;33m         \u001b[1;32mreturn\u001b[0m \u001b[0mself\u001b[0m\u001b[1;33m.\u001b[0m\u001b[0m_emit\u001b[0m\u001b[1;33m(\u001b[0m\u001b[0mevent_name\u001b[0m\u001b[1;33m,\u001b[0m \u001b[0mkwargs\u001b[0m\u001b[1;33m)\u001b[0m\u001b[1;33m\u001b[0m\u001b[1;33m\u001b[0m\u001b[0m\n\u001b[0m\u001b[0;32m    229\u001b[0m \u001b[1;33m\u001b[0m\u001b[0m\n\u001b[0;32m    230\u001b[0m     \u001b[1;32mdef\u001b[0m \u001b[0memit_until_response\u001b[0m\u001b[1;33m(\u001b[0m\u001b[0mself\u001b[0m\u001b[1;33m,\u001b[0m \u001b[0mevent_name\u001b[0m\u001b[1;33m,\u001b[0m \u001b[1;33m**\u001b[0m\u001b[0mkwargs\u001b[0m\u001b[1;33m)\u001b[0m\u001b[1;33m:\u001b[0m\u001b[1;33m\u001b[0m\u001b[1;33m\u001b[0m\u001b[0m\n",
      "\u001b[1;32mc:\\users\\partheev\\appdata\\local\\programs\\python\\python39\\lib\\site-packages\\ibm_botocore\\hooks.py\u001b[0m in \u001b[0;36m_emit\u001b[1;34m(self, event_name, kwargs, stop_on_response)\u001b[0m\n\u001b[0;32m    209\u001b[0m         \u001b[1;32mfor\u001b[0m \u001b[0mhandler\u001b[0m \u001b[1;32min\u001b[0m \u001b[0mhandlers_to_call\u001b[0m\u001b[1;33m:\u001b[0m\u001b[1;33m\u001b[0m\u001b[1;33m\u001b[0m\u001b[0m\n\u001b[0;32m    210\u001b[0m             \u001b[0mlogger\u001b[0m\u001b[1;33m.\u001b[0m\u001b[0mdebug\u001b[0m\u001b[1;33m(\u001b[0m\u001b[1;34m'Event %s: calling handler %s'\u001b[0m\u001b[1;33m,\u001b[0m \u001b[0mevent_name\u001b[0m\u001b[1;33m,\u001b[0m \u001b[0mhandler\u001b[0m\u001b[1;33m)\u001b[0m\u001b[1;33m\u001b[0m\u001b[1;33m\u001b[0m\u001b[0m\n\u001b[1;32m--> 211\u001b[1;33m             \u001b[0mresponse\u001b[0m \u001b[1;33m=\u001b[0m \u001b[0mhandler\u001b[0m\u001b[1;33m(\u001b[0m\u001b[1;33m**\u001b[0m\u001b[0mkwargs\u001b[0m\u001b[1;33m)\u001b[0m\u001b[1;33m\u001b[0m\u001b[1;33m\u001b[0m\u001b[0m\n\u001b[0m\u001b[0;32m    212\u001b[0m             \u001b[0mresponses\u001b[0m\u001b[1;33m.\u001b[0m\u001b[0mappend\u001b[0m\u001b[1;33m(\u001b[0m\u001b[1;33m(\u001b[0m\u001b[0mhandler\u001b[0m\u001b[1;33m,\u001b[0m \u001b[0mresponse\u001b[0m\u001b[1;33m)\u001b[0m\u001b[1;33m)\u001b[0m\u001b[1;33m\u001b[0m\u001b[1;33m\u001b[0m\u001b[0m\n\u001b[0;32m    213\u001b[0m             \u001b[1;32mif\u001b[0m \u001b[0mstop_on_response\u001b[0m \u001b[1;32mand\u001b[0m \u001b[0mresponse\u001b[0m \u001b[1;32mis\u001b[0m \u001b[1;32mnot\u001b[0m \u001b[1;32mNone\u001b[0m\u001b[1;33m:\u001b[0m\u001b[1;33m\u001b[0m\u001b[1;33m\u001b[0m\u001b[0m\n",
      "\u001b[1;32mc:\\users\\partheev\\appdata\\local\\programs\\python\\python39\\lib\\site-packages\\ibm_botocore\\retryhandler.py\u001b[0m in \u001b[0;36m__call__\u001b[1;34m(self, attempts, response, caught_exception, **kwargs)\u001b[0m\n\u001b[0;32m    190\u001b[0m             \u001b[0mchecker_kwargs\u001b[0m\u001b[1;33m.\u001b[0m\u001b[0mupdate\u001b[0m\u001b[1;33m(\u001b[0m\u001b[1;33m{\u001b[0m\u001b[1;34m'retries_context'\u001b[0m\u001b[1;33m:\u001b[0m \u001b[0mretries_context\u001b[0m\u001b[1;33m}\u001b[0m\u001b[1;33m)\u001b[0m\u001b[1;33m\u001b[0m\u001b[1;33m\u001b[0m\u001b[0m\n\u001b[0;32m    191\u001b[0m \u001b[1;33m\u001b[0m\u001b[0m\n\u001b[1;32m--> 192\u001b[1;33m         \u001b[1;32mif\u001b[0m \u001b[0mself\u001b[0m\u001b[1;33m.\u001b[0m\u001b[0m_checker\u001b[0m\u001b[1;33m(\u001b[0m\u001b[1;33m**\u001b[0m\u001b[0mchecker_kwargs\u001b[0m\u001b[1;33m)\u001b[0m\u001b[1;33m:\u001b[0m\u001b[1;33m\u001b[0m\u001b[1;33m\u001b[0m\u001b[0m\n\u001b[0m\u001b[0;32m    193\u001b[0m             \u001b[0mresult\u001b[0m \u001b[1;33m=\u001b[0m \u001b[0mself\u001b[0m\u001b[1;33m.\u001b[0m\u001b[0m_action\u001b[0m\u001b[1;33m(\u001b[0m\u001b[0mattempts\u001b[0m\u001b[1;33m=\u001b[0m\u001b[0mattempts\u001b[0m\u001b[1;33m)\u001b[0m\u001b[1;33m\u001b[0m\u001b[1;33m\u001b[0m\u001b[0m\n\u001b[0;32m    194\u001b[0m             \u001b[0mlogger\u001b[0m\u001b[1;33m.\u001b[0m\u001b[0mdebug\u001b[0m\u001b[1;33m(\u001b[0m\u001b[1;34m\"Retry needed, action of: %s\"\u001b[0m\u001b[1;33m,\u001b[0m \u001b[0mresult\u001b[0m\u001b[1;33m)\u001b[0m\u001b[1;33m\u001b[0m\u001b[1;33m\u001b[0m\u001b[0m\n",
      "\u001b[1;32mc:\\users\\partheev\\appdata\\local\\programs\\python\\python39\\lib\\site-packages\\ibm_botocore\\retryhandler.py\u001b[0m in \u001b[0;36m__call__\u001b[1;34m(self, attempt_number, response, caught_exception, retries_context)\u001b[0m\n\u001b[0;32m    263\u001b[0m             )\n\u001b[0;32m    264\u001b[0m \u001b[1;33m\u001b[0m\u001b[0m\n\u001b[1;32m--> 265\u001b[1;33m         should_retry = self._should_retry(attempt_number, response,\n\u001b[0m\u001b[0;32m    266\u001b[0m                                           caught_exception)\n\u001b[0;32m    267\u001b[0m         \u001b[1;32mif\u001b[0m \u001b[0mshould_retry\u001b[0m\u001b[1;33m:\u001b[0m\u001b[1;33m\u001b[0m\u001b[1;33m\u001b[0m\u001b[0m\n",
      "\u001b[1;32mc:\\users\\partheev\\appdata\\local\\programs\\python\\python39\\lib\\site-packages\\ibm_botocore\\retryhandler.py\u001b[0m in \u001b[0;36m_should_retry\u001b[1;34m(self, attempt_number, response, caught_exception)\u001b[0m\n\u001b[0;32m    290\u001b[0m             \u001b[1;31m# If we've exceeded the max attempts we just let the exception\u001b[0m\u001b[1;33m\u001b[0m\u001b[1;33m\u001b[0m\u001b[1;33m\u001b[0m\u001b[0m\n\u001b[0;32m    291\u001b[0m             \u001b[1;31m# propogate if one has occurred.\u001b[0m\u001b[1;33m\u001b[0m\u001b[1;33m\u001b[0m\u001b[1;33m\u001b[0m\u001b[0m\n\u001b[1;32m--> 292\u001b[1;33m             \u001b[1;32mreturn\u001b[0m \u001b[0mself\u001b[0m\u001b[1;33m.\u001b[0m\u001b[0m_checker\u001b[0m\u001b[1;33m(\u001b[0m\u001b[0mattempt_number\u001b[0m\u001b[1;33m,\u001b[0m \u001b[0mresponse\u001b[0m\u001b[1;33m,\u001b[0m \u001b[0mcaught_exception\u001b[0m\u001b[1;33m)\u001b[0m\u001b[1;33m\u001b[0m\u001b[1;33m\u001b[0m\u001b[0m\n\u001b[0m\u001b[0;32m    293\u001b[0m \u001b[1;33m\u001b[0m\u001b[0m\n\u001b[0;32m    294\u001b[0m \u001b[1;33m\u001b[0m\u001b[0m\n",
      "\u001b[1;32mc:\\users\\partheev\\appdata\\local\\programs\\python\\python39\\lib\\site-packages\\ibm_botocore\\retryhandler.py\u001b[0m in \u001b[0;36m__call__\u001b[1;34m(self, attempt_number, response, caught_exception)\u001b[0m\n\u001b[0;32m    329\u001b[0m     \u001b[1;32mdef\u001b[0m \u001b[0m__call__\u001b[0m\u001b[1;33m(\u001b[0m\u001b[0mself\u001b[0m\u001b[1;33m,\u001b[0m \u001b[0mattempt_number\u001b[0m\u001b[1;33m,\u001b[0m \u001b[0mresponse\u001b[0m\u001b[1;33m,\u001b[0m \u001b[0mcaught_exception\u001b[0m\u001b[1;33m)\u001b[0m\u001b[1;33m:\u001b[0m\u001b[1;33m\u001b[0m\u001b[1;33m\u001b[0m\u001b[0m\n\u001b[0;32m    330\u001b[0m         \u001b[1;32mfor\u001b[0m \u001b[0mchecker\u001b[0m \u001b[1;32min\u001b[0m \u001b[0mself\u001b[0m\u001b[1;33m.\u001b[0m\u001b[0m_checkers\u001b[0m\u001b[1;33m:\u001b[0m\u001b[1;33m\u001b[0m\u001b[1;33m\u001b[0m\u001b[0m\n\u001b[1;32m--> 331\u001b[1;33m             checker_response = checker(attempt_number, response,\n\u001b[0m\u001b[0;32m    332\u001b[0m                                        caught_exception)\n\u001b[0;32m    333\u001b[0m             \u001b[1;32mif\u001b[0m \u001b[0mchecker_response\u001b[0m\u001b[1;33m:\u001b[0m\u001b[1;33m\u001b[0m\u001b[1;33m\u001b[0m\u001b[0m\n",
      "\u001b[1;32mc:\\users\\partheev\\appdata\\local\\programs\\python\\python39\\lib\\site-packages\\ibm_botocore\\retryhandler.py\u001b[0m in \u001b[0;36m__call__\u001b[1;34m(self, attempt_number, response, caught_exception)\u001b[0m\n\u001b[0;32m    229\u001b[0m             \u001b[1;32mreturn\u001b[0m \u001b[0mself\u001b[0m\u001b[1;33m.\u001b[0m\u001b[0m_check_response\u001b[0m\u001b[1;33m(\u001b[0m\u001b[0mattempt_number\u001b[0m\u001b[1;33m,\u001b[0m \u001b[0mresponse\u001b[0m\u001b[1;33m)\u001b[0m\u001b[1;33m\u001b[0m\u001b[1;33m\u001b[0m\u001b[0m\n\u001b[0;32m    230\u001b[0m         \u001b[1;32melif\u001b[0m \u001b[0mcaught_exception\u001b[0m \u001b[1;32mis\u001b[0m \u001b[1;32mnot\u001b[0m \u001b[1;32mNone\u001b[0m\u001b[1;33m:\u001b[0m\u001b[1;33m\u001b[0m\u001b[1;33m\u001b[0m\u001b[0m\n\u001b[1;32m--> 231\u001b[1;33m             return self._check_caught_exception(\n\u001b[0m\u001b[0;32m    232\u001b[0m                 attempt_number, caught_exception)\n\u001b[0;32m    233\u001b[0m         \u001b[1;32melse\u001b[0m\u001b[1;33m:\u001b[0m\u001b[1;33m\u001b[0m\u001b[1;33m\u001b[0m\u001b[0m\n",
      "\u001b[1;32mc:\\users\\partheev\\appdata\\local\\programs\\python\\python39\\lib\\site-packages\\ibm_botocore\\retryhandler.py\u001b[0m in \u001b[0;36m_check_caught_exception\u001b[1;34m(self, attempt_number, caught_exception)\u001b[0m\n\u001b[0;32m    372\u001b[0m         \u001b[1;31m# the MaxAttemptsDecorator is not interested in retrying the exception\u001b[0m\u001b[1;33m\u001b[0m\u001b[1;33m\u001b[0m\u001b[1;33m\u001b[0m\u001b[0m\n\u001b[0;32m    373\u001b[0m         \u001b[1;31m# then this exception just propogates out past the retry code.\u001b[0m\u001b[1;33m\u001b[0m\u001b[1;33m\u001b[0m\u001b[1;33m\u001b[0m\u001b[0m\n\u001b[1;32m--> 374\u001b[1;33m         \u001b[1;32mraise\u001b[0m \u001b[0mcaught_exception\u001b[0m\u001b[1;33m\u001b[0m\u001b[1;33m\u001b[0m\u001b[0m\n\u001b[0m",
      "\u001b[1;32mc:\\users\\partheev\\appdata\\local\\programs\\python\\python39\\lib\\site-packages\\ibm_botocore\\endpoint.py\u001b[0m in \u001b[0;36m_do_get_response\u001b[1;34m(self, request, operation_model, context)\u001b[0m\n\u001b[0;32m    247\u001b[0m             \u001b[0mhttp_response\u001b[0m \u001b[1;33m=\u001b[0m \u001b[0mfirst_non_none_response\u001b[0m\u001b[1;33m(\u001b[0m\u001b[0mresponses\u001b[0m\u001b[1;33m)\u001b[0m\u001b[1;33m\u001b[0m\u001b[1;33m\u001b[0m\u001b[0m\n\u001b[0;32m    248\u001b[0m             \u001b[1;32mif\u001b[0m \u001b[0mhttp_response\u001b[0m \u001b[1;32mis\u001b[0m \u001b[1;32mNone\u001b[0m\u001b[1;33m:\u001b[0m\u001b[1;33m\u001b[0m\u001b[1;33m\u001b[0m\u001b[0m\n\u001b[1;32m--> 249\u001b[1;33m                 \u001b[0mhttp_response\u001b[0m \u001b[1;33m=\u001b[0m \u001b[0mself\u001b[0m\u001b[1;33m.\u001b[0m\u001b[0m_send\u001b[0m\u001b[1;33m(\u001b[0m\u001b[0mrequest\u001b[0m\u001b[1;33m)\u001b[0m\u001b[1;33m\u001b[0m\u001b[1;33m\u001b[0m\u001b[0m\n\u001b[0m\u001b[0;32m    250\u001b[0m         \u001b[1;32mexcept\u001b[0m \u001b[0mHTTPClientError\u001b[0m \u001b[1;32mas\u001b[0m \u001b[0me\u001b[0m\u001b[1;33m:\u001b[0m\u001b[1;33m\u001b[0m\u001b[1;33m\u001b[0m\u001b[0m\n\u001b[0;32m    251\u001b[0m             \u001b[1;32mreturn\u001b[0m \u001b[1;33m(\u001b[0m\u001b[1;32mNone\u001b[0m\u001b[1;33m,\u001b[0m \u001b[0me\u001b[0m\u001b[1;33m)\u001b[0m\u001b[1;33m\u001b[0m\u001b[1;33m\u001b[0m\u001b[0m\n",
      "\u001b[1;32mc:\\users\\partheev\\appdata\\local\\programs\\python\\python39\\lib\\site-packages\\ibm_botocore\\endpoint.py\u001b[0m in \u001b[0;36m_send\u001b[1;34m(self, request)\u001b[0m\n\u001b[0;32m    319\u001b[0m \u001b[1;33m\u001b[0m\u001b[0m\n\u001b[0;32m    320\u001b[0m     \u001b[1;32mdef\u001b[0m \u001b[0m_send\u001b[0m\u001b[1;33m(\u001b[0m\u001b[0mself\u001b[0m\u001b[1;33m,\u001b[0m \u001b[0mrequest\u001b[0m\u001b[1;33m)\u001b[0m\u001b[1;33m:\u001b[0m\u001b[1;33m\u001b[0m\u001b[1;33m\u001b[0m\u001b[0m\n\u001b[1;32m--> 321\u001b[1;33m         \u001b[1;32mreturn\u001b[0m \u001b[0mself\u001b[0m\u001b[1;33m.\u001b[0m\u001b[0mhttp_session\u001b[0m\u001b[1;33m.\u001b[0m\u001b[0msend\u001b[0m\u001b[1;33m(\u001b[0m\u001b[0mrequest\u001b[0m\u001b[1;33m)\u001b[0m\u001b[1;33m\u001b[0m\u001b[1;33m\u001b[0m\u001b[0m\n\u001b[0m\u001b[0;32m    322\u001b[0m \u001b[1;33m\u001b[0m\u001b[0m\n\u001b[0;32m    323\u001b[0m \u001b[1;33m\u001b[0m\u001b[0m\n",
      "\u001b[1;32mc:\\users\\partheev\\appdata\\local\\programs\\python\\python39\\lib\\site-packages\\ibm_botocore\\httpsession.py\u001b[0m in \u001b[0;36msend\u001b[1;34m(self, request)\u001b[0m\n\u001b[0;32m    432\u001b[0m             \u001b[1;32mraise\u001b[0m \u001b[0mSSLError\u001b[0m\u001b[1;33m(\u001b[0m\u001b[0mendpoint_url\u001b[0m\u001b[1;33m=\u001b[0m\u001b[0mrequest\u001b[0m\u001b[1;33m.\u001b[0m\u001b[0murl\u001b[0m\u001b[1;33m,\u001b[0m \u001b[0merror\u001b[0m\u001b[1;33m=\u001b[0m\u001b[0me\u001b[0m\u001b[1;33m)\u001b[0m\u001b[1;33m\u001b[0m\u001b[1;33m\u001b[0m\u001b[0m\n\u001b[0;32m    433\u001b[0m         \u001b[1;32mexcept\u001b[0m \u001b[1;33m(\u001b[0m\u001b[0mNewConnectionError\u001b[0m\u001b[1;33m,\u001b[0m \u001b[0msocket\u001b[0m\u001b[1;33m.\u001b[0m\u001b[0mgaierror\u001b[0m\u001b[1;33m)\u001b[0m \u001b[1;32mas\u001b[0m \u001b[0me\u001b[0m\u001b[1;33m:\u001b[0m\u001b[1;33m\u001b[0m\u001b[1;33m\u001b[0m\u001b[0m\n\u001b[1;32m--> 434\u001b[1;33m             \u001b[1;32mraise\u001b[0m \u001b[0mEndpointConnectionError\u001b[0m\u001b[1;33m(\u001b[0m\u001b[0mendpoint_url\u001b[0m\u001b[1;33m=\u001b[0m\u001b[0mrequest\u001b[0m\u001b[1;33m.\u001b[0m\u001b[0murl\u001b[0m\u001b[1;33m,\u001b[0m \u001b[0merror\u001b[0m\u001b[1;33m=\u001b[0m\u001b[0me\u001b[0m\u001b[1;33m)\u001b[0m\u001b[1;33m\u001b[0m\u001b[1;33m\u001b[0m\u001b[0m\n\u001b[0m\u001b[0;32m    435\u001b[0m         \u001b[1;32mexcept\u001b[0m \u001b[0mProxyError\u001b[0m \u001b[1;32mas\u001b[0m \u001b[0me\u001b[0m\u001b[1;33m:\u001b[0m\u001b[1;33m\u001b[0m\u001b[1;33m\u001b[0m\u001b[0m\n\u001b[0;32m    436\u001b[0m             \u001b[1;32mraise\u001b[0m \u001b[0mProxyConnectionError\u001b[0m\u001b[1;33m(\u001b[0m\u001b[0mproxy_url\u001b[0m\u001b[1;33m=\u001b[0m\u001b[0mmask_proxy_url\u001b[0m\u001b[1;33m(\u001b[0m\u001b[0mproxy_url\u001b[0m\u001b[1;33m)\u001b[0m\u001b[1;33m,\u001b[0m \u001b[0merror\u001b[0m\u001b[1;33m=\u001b[0m\u001b[0me\u001b[0m\u001b[1;33m)\u001b[0m\u001b[1;33m\u001b[0m\u001b[1;33m\u001b[0m\u001b[0m\n",
      "\u001b[1;31mEndpointConnectionError\u001b[0m: Could not connect to the endpoint URL: \"https://s3.private.eu-gb.cloud-object-storage.appdomain.cloud/ibm2023-donotdelete-pr-w0iooznfnv6bcv/All%20tiers%20data%20%281%29.csv\""
     ]
    }
   ],
   "source": [
    "# IMPORTING THE DATASETS USING IBM CLOUD snippet\n",
    "\n",
    "import os, types\n",
    "import pandas as pd\n",
    "from botocore.client import Config\n",
    "import ibm_boto3\n",
    "\n",
    "def __iter__(self): return 0\n",
    "\n",
    "# @hidden_cell\n",
    "# The following code accesses a file in your IBM Cloud Object Storage. It includes your credentials.\n",
    "# You might want to remove those credentials before you share the notebook.\n",
    "cos_client = ibm_boto3.client(service_name='s3',\n",
    "    ibm_api_key_id='TUbTOybp0yCKKuwbDRJN9vV0jTsGOTsBakXo-yqeBL8K',\n",
    "    ibm_auth_endpoint=\"https://iam.cloud.ibm.com/oidc/token\",\n",
    "    config=Config(signature_version='oauth'),\n",
    "    endpoint_url='https://s3.private.eu-gb.cloud-object-storage.appdomain.cloud')\n",
    "\n",
    "bucket = 'ibm2023-donotdelete-pr-w0iooznfnv6bcv'\n",
    "object_key = 'All tiers data (1).csv'\n",
    "\n",
    "body = cos_client.get_object(Bucket=bucket,Key=object_key)['Body']\n",
    "# add missing __iter__ method, so pandas accepts body as file-like object\n",
    "if not hasattr(body, \"__iter__\"): body.__iter__ = types.MethodType( __iter__, body )\n",
    "\n",
    "df= pd.read_csv(body)\n",
    "df.head()\n"
   ]
  },
  {
   "cell_type": "code",
   "execution_count": null,
   "metadata": {
    "colab": {
     "base_uri": "https://localhost:8080/",
     "height": 547
    },
    "id": "7JzUCmFVFA0F",
    "outputId": "2b545cea-0676-412d-a6d2-ba92fb17aa4f"
   },
   "outputs": [],
   "source": [
    "#....................                                                             Exploratory Data Analysis part:"
   ]
  },
  {
   "cell_type": "code",
   "execution_count": 40,
   "metadata": {
    "colab": {
     "base_uri": "https://localhost:8080/"
    },
    "id": "YbqH5VYoGSqS",
    "outputId": "ec4eed74-b153-4b88-ee44-824a03b3a342"
   },
   "outputs": [
    {
     "data": {
      "text/plain": [
       "(135, 22)"
      ]
     },
     "execution_count": 40,
     "metadata": {},
     "output_type": "execute_result"
    }
   ],
   "source": [
    "# Get the shape of the DataFrame\n",
    "df.shape"
   ]
  },
  {
   "cell_type": "code",
   "execution_count": 41,
   "metadata": {
    "colab": {
     "base_uri": "https://localhost:8080/"
    },
    "id": "OcY0aqI4eb0e",
    "outputId": "27808225-3f09-455e-c887-12c7ad411b8d"
   },
   "outputs": [
    {
     "data": {
      "text/plain": [
       "s_id                                 0\n",
       "name                               135\n",
       "profile_link                         1\n",
       "tier                                 0\n",
       "gender                               0\n",
       "branch                               0\n",
       "cgpa                                 9\n",
       "inter_gpa                           56\n",
       "ssc_gpa                             55\n",
       "internships                          0\n",
       "no_of_projects                       0\n",
       "is_participate_hackathon             0\n",
       "is_participated_extracurricular      0\n",
       "no_of_programming_languages          0\n",
       "dsa                                  0\n",
       "mobile_dev                           0\n",
       "web_dev                              0\n",
       "Machine Learning                     0\n",
       "cloud                                0\n",
       "other_skills                       114\n",
       "is_placed                            0\n",
       "salary_as_fresher                    0\n",
       "dtype: int64"
      ]
     },
     "execution_count": 41,
     "metadata": {},
     "output_type": "execute_result"
    }
   ],
   "source": [
    "# Count the missing values in each column\n",
    "df.isnull().sum()"
   ]
  },
  {
   "cell_type": "code",
   "execution_count": 42,
   "metadata": {
    "colab": {
     "base_uri": "https://localhost:8080/",
     "height": 686
    },
    "id": "nbmoEu-XkSfa",
    "outputId": "99963219-674c-4b4e-8e7c-9e9cb4b37381"
   },
   "outputs": [
    {
     "data": {
      "text/html": [
       "<div>\n",
       "<style scoped>\n",
       "    .dataframe tbody tr th:only-of-type {\n",
       "        vertical-align: middle;\n",
       "    }\n",
       "\n",
       "    .dataframe tbody tr th {\n",
       "        vertical-align: top;\n",
       "    }\n",
       "\n",
       "    .dataframe thead th {\n",
       "        text-align: right;\n",
       "    }\n",
       "</style>\n",
       "<table border=\"1\" class=\"dataframe\">\n",
       "  <thead>\n",
       "    <tr style=\"text-align: right;\">\n",
       "      <th></th>\n",
       "      <th>s_id</th>\n",
       "      <th>name</th>\n",
       "      <th>tier</th>\n",
       "      <th>cgpa</th>\n",
       "      <th>inter_gpa</th>\n",
       "      <th>ssc_gpa</th>\n",
       "      <th>internships</th>\n",
       "      <th>no_of_projects</th>\n",
       "      <th>is_participate_hackathon</th>\n",
       "      <th>is_participated_extracurricular</th>\n",
       "      <th>no_of_programming_languages</th>\n",
       "      <th>dsa</th>\n",
       "      <th>mobile_dev</th>\n",
       "      <th>web_dev</th>\n",
       "      <th>Machine Learning</th>\n",
       "      <th>cloud</th>\n",
       "      <th>is_placed</th>\n",
       "      <th>salary_as_fresher</th>\n",
       "    </tr>\n",
       "  </thead>\n",
       "  <tbody>\n",
       "    <tr>\n",
       "      <th>s_id</th>\n",
       "      <td>1.000000</td>\n",
       "      <td>NaN</td>\n",
       "      <td>0.416145</td>\n",
       "      <td>-0.615522</td>\n",
       "      <td>-0.011070</td>\n",
       "      <td>-0.011057</td>\n",
       "      <td>-0.571853</td>\n",
       "      <td>-0.554007</td>\n",
       "      <td>-0.430518</td>\n",
       "      <td>-0.322978</td>\n",
       "      <td>-0.637097</td>\n",
       "      <td>-0.540625</td>\n",
       "      <td>-0.242055</td>\n",
       "      <td>-0.385694</td>\n",
       "      <td>-0.402648</td>\n",
       "      <td>-0.093952</td>\n",
       "      <td>-0.612236</td>\n",
       "      <td>-0.578762</td>\n",
       "    </tr>\n",
       "    <tr>\n",
       "      <th>name</th>\n",
       "      <td>NaN</td>\n",
       "      <td>NaN</td>\n",
       "      <td>NaN</td>\n",
       "      <td>NaN</td>\n",
       "      <td>NaN</td>\n",
       "      <td>NaN</td>\n",
       "      <td>NaN</td>\n",
       "      <td>NaN</td>\n",
       "      <td>NaN</td>\n",
       "      <td>NaN</td>\n",
       "      <td>NaN</td>\n",
       "      <td>NaN</td>\n",
       "      <td>NaN</td>\n",
       "      <td>NaN</td>\n",
       "      <td>NaN</td>\n",
       "      <td>NaN</td>\n",
       "      <td>NaN</td>\n",
       "      <td>NaN</td>\n",
       "    </tr>\n",
       "    <tr>\n",
       "      <th>tier</th>\n",
       "      <td>0.416145</td>\n",
       "      <td>NaN</td>\n",
       "      <td>1.000000</td>\n",
       "      <td>-0.186697</td>\n",
       "      <td>0.248959</td>\n",
       "      <td>0.113419</td>\n",
       "      <td>-0.394872</td>\n",
       "      <td>-0.314810</td>\n",
       "      <td>-0.522666</td>\n",
       "      <td>-0.393840</td>\n",
       "      <td>-0.488014</td>\n",
       "      <td>-0.574051</td>\n",
       "      <td>-0.110535</td>\n",
       "      <td>-0.319985</td>\n",
       "      <td>-0.353230</td>\n",
       "      <td>-0.015532</td>\n",
       "      <td>-0.367033</td>\n",
       "      <td>-0.613388</td>\n",
       "    </tr>\n",
       "    <tr>\n",
       "      <th>cgpa</th>\n",
       "      <td>-0.615522</td>\n",
       "      <td>NaN</td>\n",
       "      <td>-0.186697</td>\n",
       "      <td>1.000000</td>\n",
       "      <td>0.148331</td>\n",
       "      <td>0.143186</td>\n",
       "      <td>0.644682</td>\n",
       "      <td>0.595280</td>\n",
       "      <td>0.466105</td>\n",
       "      <td>0.364381</td>\n",
       "      <td>0.652045</td>\n",
       "      <td>0.388236</td>\n",
       "      <td>0.115496</td>\n",
       "      <td>0.430604</td>\n",
       "      <td>0.475657</td>\n",
       "      <td>0.096826</td>\n",
       "      <td>0.758116</td>\n",
       "      <td>0.642630</td>\n",
       "    </tr>\n",
       "    <tr>\n",
       "      <th>inter_gpa</th>\n",
       "      <td>-0.011070</td>\n",
       "      <td>NaN</td>\n",
       "      <td>0.248959</td>\n",
       "      <td>0.148331</td>\n",
       "      <td>1.000000</td>\n",
       "      <td>0.698416</td>\n",
       "      <td>-0.088200</td>\n",
       "      <td>0.042422</td>\n",
       "      <td>-0.184157</td>\n",
       "      <td>-0.212064</td>\n",
       "      <td>0.063893</td>\n",
       "      <td>-0.159064</td>\n",
       "      <td>-0.053861</td>\n",
       "      <td>0.130089</td>\n",
       "      <td>-0.120836</td>\n",
       "      <td>-0.045910</td>\n",
       "      <td>0.205060</td>\n",
       "      <td>-0.050966</td>\n",
       "    </tr>\n",
       "    <tr>\n",
       "      <th>ssc_gpa</th>\n",
       "      <td>-0.011057</td>\n",
       "      <td>NaN</td>\n",
       "      <td>0.113419</td>\n",
       "      <td>0.143186</td>\n",
       "      <td>0.698416</td>\n",
       "      <td>1.000000</td>\n",
       "      <td>0.034795</td>\n",
       "      <td>0.009116</td>\n",
       "      <td>-0.086462</td>\n",
       "      <td>-0.114133</td>\n",
       "      <td>0.029493</td>\n",
       "      <td>-0.076045</td>\n",
       "      <td>-0.027275</td>\n",
       "      <td>0.159961</td>\n",
       "      <td>-0.060540</td>\n",
       "      <td>-0.028587</td>\n",
       "      <td>0.132383</td>\n",
       "      <td>-0.005867</td>\n",
       "    </tr>\n",
       "    <tr>\n",
       "      <th>internships</th>\n",
       "      <td>-0.571853</td>\n",
       "      <td>NaN</td>\n",
       "      <td>-0.394872</td>\n",
       "      <td>0.644682</td>\n",
       "      <td>-0.088200</td>\n",
       "      <td>0.034795</td>\n",
       "      <td>1.000000</td>\n",
       "      <td>0.599351</td>\n",
       "      <td>0.534943</td>\n",
       "      <td>0.439932</td>\n",
       "      <td>0.554257</td>\n",
       "      <td>0.482184</td>\n",
       "      <td>0.063632</td>\n",
       "      <td>0.434720</td>\n",
       "      <td>0.509953</td>\n",
       "      <td>0.146101</td>\n",
       "      <td>0.624174</td>\n",
       "      <td>0.597265</td>\n",
       "    </tr>\n",
       "    <tr>\n",
       "      <th>no_of_projects</th>\n",
       "      <td>-0.554007</td>\n",
       "      <td>NaN</td>\n",
       "      <td>-0.314810</td>\n",
       "      <td>0.595280</td>\n",
       "      <td>0.042422</td>\n",
       "      <td>0.009116</td>\n",
       "      <td>0.599351</td>\n",
       "      <td>1.000000</td>\n",
       "      <td>0.415647</td>\n",
       "      <td>0.334522</td>\n",
       "      <td>0.682428</td>\n",
       "      <td>0.473637</td>\n",
       "      <td>0.101808</td>\n",
       "      <td>0.441392</td>\n",
       "      <td>0.614728</td>\n",
       "      <td>0.051292</td>\n",
       "      <td>0.612030</td>\n",
       "      <td>0.530914</td>\n",
       "    </tr>\n",
       "    <tr>\n",
       "      <th>is_participate_hackathon</th>\n",
       "      <td>-0.430518</td>\n",
       "      <td>NaN</td>\n",
       "      <td>-0.522666</td>\n",
       "      <td>0.466105</td>\n",
       "      <td>-0.184157</td>\n",
       "      <td>-0.086462</td>\n",
       "      <td>0.534943</td>\n",
       "      <td>0.415647</td>\n",
       "      <td>1.000000</td>\n",
       "      <td>0.469728</td>\n",
       "      <td>0.520692</td>\n",
       "      <td>0.611526</td>\n",
       "      <td>0.158523</td>\n",
       "      <td>0.338518</td>\n",
       "      <td>0.410889</td>\n",
       "      <td>0.054571</td>\n",
       "      <td>0.408413</td>\n",
       "      <td>0.546717</td>\n",
       "    </tr>\n",
       "    <tr>\n",
       "      <th>is_participated_extracurricular</th>\n",
       "      <td>-0.322978</td>\n",
       "      <td>NaN</td>\n",
       "      <td>-0.393840</td>\n",
       "      <td>0.364381</td>\n",
       "      <td>-0.212064</td>\n",
       "      <td>-0.114133</td>\n",
       "      <td>0.439932</td>\n",
       "      <td>0.334522</td>\n",
       "      <td>0.469728</td>\n",
       "      <td>1.000000</td>\n",
       "      <td>0.273130</td>\n",
       "      <td>0.389156</td>\n",
       "      <td>0.039043</td>\n",
       "      <td>0.227784</td>\n",
       "      <td>0.324808</td>\n",
       "      <td>-0.063778</td>\n",
       "      <td>0.289946</td>\n",
       "      <td>0.369472</td>\n",
       "    </tr>\n",
       "    <tr>\n",
       "      <th>no_of_programming_languages</th>\n",
       "      <td>-0.637097</td>\n",
       "      <td>NaN</td>\n",
       "      <td>-0.488014</td>\n",
       "      <td>0.652045</td>\n",
       "      <td>0.063893</td>\n",
       "      <td>0.029493</td>\n",
       "      <td>0.554257</td>\n",
       "      <td>0.682428</td>\n",
       "      <td>0.520692</td>\n",
       "      <td>0.273130</td>\n",
       "      <td>1.000000</td>\n",
       "      <td>0.738213</td>\n",
       "      <td>0.199641</td>\n",
       "      <td>0.667037</td>\n",
       "      <td>0.566488</td>\n",
       "      <td>0.125319</td>\n",
       "      <td>0.737937</td>\n",
       "      <td>0.748420</td>\n",
       "    </tr>\n",
       "    <tr>\n",
       "      <th>dsa</th>\n",
       "      <td>-0.540625</td>\n",
       "      <td>NaN</td>\n",
       "      <td>-0.574051</td>\n",
       "      <td>0.388236</td>\n",
       "      <td>-0.159064</td>\n",
       "      <td>-0.076045</td>\n",
       "      <td>0.482184</td>\n",
       "      <td>0.473637</td>\n",
       "      <td>0.611526</td>\n",
       "      <td>0.389156</td>\n",
       "      <td>0.738213</td>\n",
       "      <td>1.000000</td>\n",
       "      <td>0.272045</td>\n",
       "      <td>0.630354</td>\n",
       "      <td>0.436142</td>\n",
       "      <td>0.061233</td>\n",
       "      <td>0.442978</td>\n",
       "      <td>0.637444</td>\n",
       "    </tr>\n",
       "    <tr>\n",
       "      <th>mobile_dev</th>\n",
       "      <td>-0.242055</td>\n",
       "      <td>NaN</td>\n",
       "      <td>-0.110535</td>\n",
       "      <td>0.115496</td>\n",
       "      <td>-0.053861</td>\n",
       "      <td>-0.027275</td>\n",
       "      <td>0.063632</td>\n",
       "      <td>0.101808</td>\n",
       "      <td>0.158523</td>\n",
       "      <td>0.039043</td>\n",
       "      <td>0.199641</td>\n",
       "      <td>0.272045</td>\n",
       "      <td>1.000000</td>\n",
       "      <td>0.049746</td>\n",
       "      <td>-0.065303</td>\n",
       "      <td>-0.020870</td>\n",
       "      <td>0.206284</td>\n",
       "      <td>0.150590</td>\n",
       "    </tr>\n",
       "    <tr>\n",
       "      <th>web_dev</th>\n",
       "      <td>-0.385694</td>\n",
       "      <td>NaN</td>\n",
       "      <td>-0.319985</td>\n",
       "      <td>0.430604</td>\n",
       "      <td>0.130089</td>\n",
       "      <td>0.159961</td>\n",
       "      <td>0.434720</td>\n",
       "      <td>0.441392</td>\n",
       "      <td>0.338518</td>\n",
       "      <td>0.227784</td>\n",
       "      <td>0.667037</td>\n",
       "      <td>0.630354</td>\n",
       "      <td>0.049746</td>\n",
       "      <td>1.000000</td>\n",
       "      <td>0.336958</td>\n",
       "      <td>0.094669</td>\n",
       "      <td>0.439823</td>\n",
       "      <td>0.568384</td>\n",
       "    </tr>\n",
       "    <tr>\n",
       "      <th>Machine Learning</th>\n",
       "      <td>-0.402648</td>\n",
       "      <td>NaN</td>\n",
       "      <td>-0.353230</td>\n",
       "      <td>0.475657</td>\n",
       "      <td>-0.120836</td>\n",
       "      <td>-0.060540</td>\n",
       "      <td>0.509953</td>\n",
       "      <td>0.614728</td>\n",
       "      <td>0.410889</td>\n",
       "      <td>0.324808</td>\n",
       "      <td>0.566488</td>\n",
       "      <td>0.436142</td>\n",
       "      <td>-0.065303</td>\n",
       "      <td>0.336958</td>\n",
       "      <td>1.000000</td>\n",
       "      <td>0.092160</td>\n",
       "      <td>0.516949</td>\n",
       "      <td>0.478644</td>\n",
       "    </tr>\n",
       "    <tr>\n",
       "      <th>cloud</th>\n",
       "      <td>-0.093952</td>\n",
       "      <td>NaN</td>\n",
       "      <td>-0.015532</td>\n",
       "      <td>0.096826</td>\n",
       "      <td>-0.045910</td>\n",
       "      <td>-0.028587</td>\n",
       "      <td>0.146101</td>\n",
       "      <td>0.051292</td>\n",
       "      <td>0.054571</td>\n",
       "      <td>-0.063778</td>\n",
       "      <td>0.125319</td>\n",
       "      <td>0.061233</td>\n",
       "      <td>-0.020870</td>\n",
       "      <td>0.094669</td>\n",
       "      <td>0.092160</td>\n",
       "      <td>1.000000</td>\n",
       "      <td>0.224646</td>\n",
       "      <td>0.072339</td>\n",
       "    </tr>\n",
       "    <tr>\n",
       "      <th>is_placed</th>\n",
       "      <td>-0.612236</td>\n",
       "      <td>NaN</td>\n",
       "      <td>-0.367033</td>\n",
       "      <td>0.758116</td>\n",
       "      <td>0.205060</td>\n",
       "      <td>0.132383</td>\n",
       "      <td>0.624174</td>\n",
       "      <td>0.612030</td>\n",
       "      <td>0.408413</td>\n",
       "      <td>0.289946</td>\n",
       "      <td>0.737937</td>\n",
       "      <td>0.442978</td>\n",
       "      <td>0.206284</td>\n",
       "      <td>0.439823</td>\n",
       "      <td>0.516949</td>\n",
       "      <td>0.224646</td>\n",
       "      <td>1.000000</td>\n",
       "      <td>0.711094</td>\n",
       "    </tr>\n",
       "    <tr>\n",
       "      <th>salary_as_fresher</th>\n",
       "      <td>-0.578762</td>\n",
       "      <td>NaN</td>\n",
       "      <td>-0.613388</td>\n",
       "      <td>0.642630</td>\n",
       "      <td>-0.050966</td>\n",
       "      <td>-0.005867</td>\n",
       "      <td>0.597265</td>\n",
       "      <td>0.530914</td>\n",
       "      <td>0.546717</td>\n",
       "      <td>0.369472</td>\n",
       "      <td>0.748420</td>\n",
       "      <td>0.637444</td>\n",
       "      <td>0.150590</td>\n",
       "      <td>0.568384</td>\n",
       "      <td>0.478644</td>\n",
       "      <td>0.072339</td>\n",
       "      <td>0.711094</td>\n",
       "      <td>1.000000</td>\n",
       "    </tr>\n",
       "  </tbody>\n",
       "</table>\n",
       "</div>"
      ],
      "text/plain": [
       "                                     s_id  name      tier      cgpa  \\\n",
       "s_id                             1.000000   NaN  0.416145 -0.615522   \n",
       "name                                  NaN   NaN       NaN       NaN   \n",
       "tier                             0.416145   NaN  1.000000 -0.186697   \n",
       "cgpa                            -0.615522   NaN -0.186697  1.000000   \n",
       "inter_gpa                       -0.011070   NaN  0.248959  0.148331   \n",
       "ssc_gpa                         -0.011057   NaN  0.113419  0.143186   \n",
       "internships                     -0.571853   NaN -0.394872  0.644682   \n",
       "no_of_projects                  -0.554007   NaN -0.314810  0.595280   \n",
       "is_participate_hackathon        -0.430518   NaN -0.522666  0.466105   \n",
       "is_participated_extracurricular -0.322978   NaN -0.393840  0.364381   \n",
       "no_of_programming_languages     -0.637097   NaN -0.488014  0.652045   \n",
       "dsa                             -0.540625   NaN -0.574051  0.388236   \n",
       "mobile_dev                      -0.242055   NaN -0.110535  0.115496   \n",
       "web_dev                         -0.385694   NaN -0.319985  0.430604   \n",
       "Machine Learning                -0.402648   NaN -0.353230  0.475657   \n",
       "cloud                           -0.093952   NaN -0.015532  0.096826   \n",
       "is_placed                       -0.612236   NaN -0.367033  0.758116   \n",
       "salary_as_fresher               -0.578762   NaN -0.613388  0.642630   \n",
       "\n",
       "                                 inter_gpa   ssc_gpa  internships  \\\n",
       "s_id                             -0.011070 -0.011057    -0.571853   \n",
       "name                                   NaN       NaN          NaN   \n",
       "tier                              0.248959  0.113419    -0.394872   \n",
       "cgpa                              0.148331  0.143186     0.644682   \n",
       "inter_gpa                         1.000000  0.698416    -0.088200   \n",
       "ssc_gpa                           0.698416  1.000000     0.034795   \n",
       "internships                      -0.088200  0.034795     1.000000   \n",
       "no_of_projects                    0.042422  0.009116     0.599351   \n",
       "is_participate_hackathon         -0.184157 -0.086462     0.534943   \n",
       "is_participated_extracurricular  -0.212064 -0.114133     0.439932   \n",
       "no_of_programming_languages       0.063893  0.029493     0.554257   \n",
       "dsa                              -0.159064 -0.076045     0.482184   \n",
       "mobile_dev                       -0.053861 -0.027275     0.063632   \n",
       "web_dev                           0.130089  0.159961     0.434720   \n",
       "Machine Learning                 -0.120836 -0.060540     0.509953   \n",
       "cloud                            -0.045910 -0.028587     0.146101   \n",
       "is_placed                         0.205060  0.132383     0.624174   \n",
       "salary_as_fresher                -0.050966 -0.005867     0.597265   \n",
       "\n",
       "                                 no_of_projects  is_participate_hackathon  \\\n",
       "s_id                                  -0.554007                 -0.430518   \n",
       "name                                        NaN                       NaN   \n",
       "tier                                  -0.314810                 -0.522666   \n",
       "cgpa                                   0.595280                  0.466105   \n",
       "inter_gpa                              0.042422                 -0.184157   \n",
       "ssc_gpa                                0.009116                 -0.086462   \n",
       "internships                            0.599351                  0.534943   \n",
       "no_of_projects                         1.000000                  0.415647   \n",
       "is_participate_hackathon               0.415647                  1.000000   \n",
       "is_participated_extracurricular        0.334522                  0.469728   \n",
       "no_of_programming_languages            0.682428                  0.520692   \n",
       "dsa                                    0.473637                  0.611526   \n",
       "mobile_dev                             0.101808                  0.158523   \n",
       "web_dev                                0.441392                  0.338518   \n",
       "Machine Learning                       0.614728                  0.410889   \n",
       "cloud                                  0.051292                  0.054571   \n",
       "is_placed                              0.612030                  0.408413   \n",
       "salary_as_fresher                      0.530914                  0.546717   \n",
       "\n",
       "                                 is_participated_extracurricular  \\\n",
       "s_id                                                   -0.322978   \n",
       "name                                                         NaN   \n",
       "tier                                                   -0.393840   \n",
       "cgpa                                                    0.364381   \n",
       "inter_gpa                                              -0.212064   \n",
       "ssc_gpa                                                -0.114133   \n",
       "internships                                             0.439932   \n",
       "no_of_projects                                          0.334522   \n",
       "is_participate_hackathon                                0.469728   \n",
       "is_participated_extracurricular                         1.000000   \n",
       "no_of_programming_languages                             0.273130   \n",
       "dsa                                                     0.389156   \n",
       "mobile_dev                                              0.039043   \n",
       "web_dev                                                 0.227784   \n",
       "Machine Learning                                        0.324808   \n",
       "cloud                                                  -0.063778   \n",
       "is_placed                                               0.289946   \n",
       "salary_as_fresher                                       0.369472   \n",
       "\n",
       "                                 no_of_programming_languages       dsa  \\\n",
       "s_id                                               -0.637097 -0.540625   \n",
       "name                                                     NaN       NaN   \n",
       "tier                                               -0.488014 -0.574051   \n",
       "cgpa                                                0.652045  0.388236   \n",
       "inter_gpa                                           0.063893 -0.159064   \n",
       "ssc_gpa                                             0.029493 -0.076045   \n",
       "internships                                         0.554257  0.482184   \n",
       "no_of_projects                                      0.682428  0.473637   \n",
       "is_participate_hackathon                            0.520692  0.611526   \n",
       "is_participated_extracurricular                     0.273130  0.389156   \n",
       "no_of_programming_languages                         1.000000  0.738213   \n",
       "dsa                                                 0.738213  1.000000   \n",
       "mobile_dev                                          0.199641  0.272045   \n",
       "web_dev                                             0.667037  0.630354   \n",
       "Machine Learning                                    0.566488  0.436142   \n",
       "cloud                                               0.125319  0.061233   \n",
       "is_placed                                           0.737937  0.442978   \n",
       "salary_as_fresher                                   0.748420  0.637444   \n",
       "\n",
       "                                 mobile_dev   web_dev  Machine Learning  \\\n",
       "s_id                              -0.242055 -0.385694         -0.402648   \n",
       "name                                    NaN       NaN               NaN   \n",
       "tier                              -0.110535 -0.319985         -0.353230   \n",
       "cgpa                               0.115496  0.430604          0.475657   \n",
       "inter_gpa                         -0.053861  0.130089         -0.120836   \n",
       "ssc_gpa                           -0.027275  0.159961         -0.060540   \n",
       "internships                        0.063632  0.434720          0.509953   \n",
       "no_of_projects                     0.101808  0.441392          0.614728   \n",
       "is_participate_hackathon           0.158523  0.338518          0.410889   \n",
       "is_participated_extracurricular    0.039043  0.227784          0.324808   \n",
       "no_of_programming_languages        0.199641  0.667037          0.566488   \n",
       "dsa                                0.272045  0.630354          0.436142   \n",
       "mobile_dev                         1.000000  0.049746         -0.065303   \n",
       "web_dev                            0.049746  1.000000          0.336958   \n",
       "Machine Learning                  -0.065303  0.336958          1.000000   \n",
       "cloud                             -0.020870  0.094669          0.092160   \n",
       "is_placed                          0.206284  0.439823          0.516949   \n",
       "salary_as_fresher                  0.150590  0.568384          0.478644   \n",
       "\n",
       "                                    cloud  is_placed  salary_as_fresher  \n",
       "s_id                            -0.093952  -0.612236          -0.578762  \n",
       "name                                  NaN        NaN                NaN  \n",
       "tier                            -0.015532  -0.367033          -0.613388  \n",
       "cgpa                             0.096826   0.758116           0.642630  \n",
       "inter_gpa                       -0.045910   0.205060          -0.050966  \n",
       "ssc_gpa                         -0.028587   0.132383          -0.005867  \n",
       "internships                      0.146101   0.624174           0.597265  \n",
       "no_of_projects                   0.051292   0.612030           0.530914  \n",
       "is_participate_hackathon         0.054571   0.408413           0.546717  \n",
       "is_participated_extracurricular -0.063778   0.289946           0.369472  \n",
       "no_of_programming_languages      0.125319   0.737937           0.748420  \n",
       "dsa                              0.061233   0.442978           0.637444  \n",
       "mobile_dev                      -0.020870   0.206284           0.150590  \n",
       "web_dev                          0.094669   0.439823           0.568384  \n",
       "Machine Learning                 0.092160   0.516949           0.478644  \n",
       "cloud                            1.000000   0.224646           0.072339  \n",
       "is_placed                        0.224646   1.000000           0.711094  \n",
       "salary_as_fresher                0.072339   0.711094           1.000000  "
      ]
     },
     "execution_count": 42,
     "metadata": {},
     "output_type": "execute_result"
    }
   ],
   "source": [
    "# Calculate the correlation matrix\n",
    "df.corr()"
   ]
  },
  {
   "cell_type": "code",
   "execution_count": 45,
   "metadata": {
    "colab": {
     "base_uri": "https://localhost:8080/"
    },
    "id": "f3X2nWvqkvhp",
    "outputId": "b7521db4-64bd-42a9-add0-8b91aefeffc9"
   },
   "outputs": [
    {
     "data": {
      "text/plain": [
       "Index(['s_id', 'name', 'profile_link', 'tier', 'gender', 'branch', 'cgpa',\n",
       "       'inter_gpa', 'ssc_gpa', 'internships', 'no_of_projects',\n",
       "       'is_participate_hackathon', 'is_participated_extracurricular',\n",
       "       'no_of_programming_languages', 'dsa', 'mobile_dev', 'web_dev',\n",
       "       'Machine Learning', 'cloud', 'other_skills', 'is_placed',\n",
       "       'salary_as_fresher'],\n",
       "      dtype='object')"
      ]
     },
     "execution_count": 45,
     "metadata": {},
     "output_type": "execute_result"
    }
   ],
   "source": [
    "# Access the column labels\n",
    "df.columns\n"
   ]
  },
  {
   "cell_type": "code",
   "execution_count": 47,
   "metadata": {
    "id": "o522i8wrk_DI"
   },
   "outputs": [],
   "source": [
    "# Since the columns 's_id', 'name', 'gender', and 'salary_as_fresher' are not directly related to the prediction target,\n",
    "# we can drop them as they don't contribute to the prediction process.\n",
    "# Dropping specified columns that are not needed for prediction\n",
    "\n",
    "df.drop(columns=['s_id','profile_link','name', 'gender', 'salary_as_fresher'], inplace=True)\n"
   ]
  },
  {
   "cell_type": "code",
   "execution_count": 48,
   "metadata": {
    "colab": {
     "base_uri": "https://localhost:8080/"
    },
    "id": "b1fhOFFMlZAf",
    "outputId": "38c44a4f-1e63-4dda-8f2c-ed89fe34d0ce"
   },
   "outputs": [
    {
     "data": {
      "text/plain": [
       "tier                                 0\n",
       "branch                               0\n",
       "cgpa                                 9\n",
       "inter_gpa                           56\n",
       "ssc_gpa                             55\n",
       "internships                          0\n",
       "no_of_projects                       0\n",
       "is_participate_hackathon             0\n",
       "is_participated_extracurricular      0\n",
       "no_of_programming_languages          0\n",
       "dsa                                  0\n",
       "mobile_dev                           0\n",
       "web_dev                              0\n",
       "Machine Learning                     0\n",
       "cloud                                0\n",
       "other_skills                       114\n",
       "is_placed                            0\n",
       "dtype: int64"
      ]
     },
     "execution_count": 48,
     "metadata": {},
     "output_type": "execute_result"
    }
   ],
   "source": [
    "#After droping the columns Checking how many columns values are having null values \n",
    "\n",
    "df.isnull().sum()"
   ]
  },
  {
   "cell_type": "code",
   "execution_count": 49,
   "metadata": {
    "id": "7SURtRlch6EH"
   },
   "outputs": [],
   "source": [
    "# Fill missing values in 'inter_gpa' column with the mean of non-missing values\n",
    "# This replaces the missing value with the mean of the available 'inter_gpa' values.\n",
    "\n",
    "df['inter_gpa'] = df['inter_gpa'].fillna(df['inter_gpa'].mean())\n",
    "\n",
    "# Fill missing values in 'ssc_gpa' column with the mean of non-missing values\n",
    "# No missing values in 'ssc_gpa', so this step doesn't change the column.\n",
    "\n",
    "df['ssc_gpa'] = df['ssc_gpa'].fillna(df['ssc_gpa'].mean())\n",
    "\n",
    "# Fill missing values in 'cgpa' column with the mean of non-missing values\n",
    "# This replaces the missing value with the mean of the available 'cgpa' values.\n",
    "\n",
    "df['cgpa'] = df['cgpa'].fillna(df['cgpa'].mean())"
   ]
  },
  {
   "cell_type": "code",
   "execution_count": 50,
   "metadata": {
    "colab": {
     "base_uri": "https://localhost:8080/",
     "height": 1000
    },
    "id": "G3BBve8nffIx",
    "outputId": "cb4ee207-28d6-4aba-cedc-4c7e97265e2e"
   },
   "outputs": [
    {
     "data": {
      "text/plain": [
       "<AxesSubplot:>"
      ]
     },
     "execution_count": 50,
     "metadata": {},
     "output_type": "execute_result"
    },
    {
     "data": {
      "image/png": "[encoded data removed]",
      "text/plain": [
       "<Figure size 1500x1000 with 2 Axes>"
      ]
     },
     "metadata": {},
     "output_type": "display_data"
    }
   ],
   "source": [
    "import seaborn as sea\n",
    "import matplotlib.pyplot as plt\n",
    "\n",
    "plt.figure(figsize=(15, 10))\n",
    "\n",
    "# Create a heatmap to visualize the correlation matrix of the DataFrame\n",
    "# This heatmap provides a graphical representation of the correlations between numeric columns in the DataFrame.\n",
    "# Each cell color indicates the strength and direction of the correlation between two variables.\n",
    "\n",
    "sea.heatmap(df.corr(), annot=True, linewidth=0.5)\n"
   ]
  },
  {
   "cell_type": "code",
   "execution_count": 51,
   "metadata": {
    "colab": {
     "base_uri": "https://localhost:8080/"
    },
    "id": "JSZOMWnbmGuf",
    "outputId": "8f67ff9e-3f5d-4e9d-8349-7784961dc977"
   },
   "outputs": [],
   "source": [
    "# Assuming 'df' is a DataFrame containing data including a 'branch' column\n",
    "# Perform one-hot encoding (dummy encoding) on the 'branch' column\n",
    "# This converts categorical data into a binary matrix representation, creating new columns for each unique category.\n",
    "\n",
    "dummy = pd.get_dummies(df.branch)"
   ]
  },
  {
   "cell_type": "code",
   "execution_count": 52,
   "metadata": {
    "colab": {
     "base_uri": "https://localhost:8080/"
    },
    "id": "i9TBQkIhr-9W",
    "outputId": "bb7b162c-a29d-4c76-c4b3-5f26d1b58091"
   },
   "outputs": [],
   "source": [
    "# Assuming 'df' is a DataFrame containing data, and 'dummy' is a DataFrame obtained from one-hot encoding\n",
    "# Concatenate the original DataFrame 'df' with the one-hot encoded DataFrame 'dummy'\n",
    "# This combines the original data with the one-hot encoded binary columns, adding them as new columns.\n",
    "\n",
    "df = pd.concat([df, dummy], axis=1)"
   ]
  },
  {
   "cell_type": "code",
   "execution_count": 57,
   "metadata": {
    "id": "VBUoYKvbs9l_"
   },
   "outputs": [],
   "source": [
    "# Drop the 'EEE' column along with the 'branch' column\n",
    "# This is done to avoid the dummy variable trap that can arise when using one-hot encoding.\n",
    "# Dropping one category column (e.g., 'EEE') ensures linear independence among the encoded columns.\n",
    "\n",
    "df.drop(columns=['EEE', 'branch'], inplace=True)\n",
    "df.drop(columns=['other_skills'],inplace=True)"
   ]
  },
  {
   "cell_type": "code",
   "execution_count": 58,
   "metadata": {
    "colab": {
     "base_uri": "https://localhost:8080/"
    },
    "id": "608ifH_nmgC5",
    "outputId": "a56cf116-09c0-4237-b44b-e85a1e278062"
   },
   "outputs": [
    {
     "data": {
      "text/plain": [
       "tier                               0\n",
       "cgpa                               0\n",
       "inter_gpa                          0\n",
       "ssc_gpa                            0\n",
       "internships                        0\n",
       "no_of_projects                     0\n",
       "is_participate_hackathon           0\n",
       "is_participated_extracurricular    0\n",
       "no_of_programming_languages        0\n",
       "dsa                                0\n",
       "mobile_dev                         0\n",
       "web_dev                            0\n",
       "Machine Learning                   0\n",
       "cloud                              0\n",
       "is_placed                          0\n",
       "CSE                                0\n",
       "ECE                                0\n",
       "IT                                 0\n",
       "MECH                               0\n",
       "dtype: int64"
      ]
     },
     "execution_count": 58,
     "metadata": {},
     "output_type": "execute_result"
    }
   ],
   "source": [
    "df.isnull().sum()"
   ]
  },
  {
   "cell_type": "code",
   "execution_count": 59,
   "metadata": {
    "id": "EcMIpZPloxlJ"
   },
   "outputs": [],
   "source": [
    "df['is_placed']=df['is_placed'].astype(int)\n",
    "# Loading the Independent features into X variable\n",
    "X=df.drop(columns=['is_placed'])"
   ]
  },
  {
   "cell_type": "code",
   "execution_count": 60,
   "metadata": {
    "colab": {
     "base_uri": "https://localhost:8080/"
    },
    "id": "giLxMZxopteC",
    "outputId": "5dc61804-8011-49c7-b8a5-f78355587483"
   },
   "outputs": [
    {
     "data": {
      "text/plain": [
       "0      1\n",
       "1      1\n",
       "2      1\n",
       "3      1\n",
       "4      1\n",
       "      ..\n",
       "130    0\n",
       "131    0\n",
       "132    0\n",
       "133    0\n",
       "134    0\n",
       "Name: is_placed, Length: 135, dtype: int64"
      ]
     },
     "execution_count": 60,
     "metadata": {},
     "output_type": "execute_result"
    }
   ],
   "source": [
    "# Loading Target column into the y varible\n",
    "y=df['is_placed']\n",
    "y"
   ]
  },
  {
   "cell_type": "code",
   "execution_count": 61,
   "metadata": {
    "id": "O3X2PzcwugLS"
   },
   "outputs": [],
   "source": [
    "# Split the dataset into training and testing sets\n",
    "# X_train: Features for training\n",
    "# X_test: Features for testing\n",
    "# y_train: Target variable for training\n",
    "# y_test: Target variable for testing\n",
    "# The 'test_size' parameter defines the proportion of the dataset that becomes the testing set.\n",
    "# In this case, 20% of the data is allocated to the testing set, and the remaining 80% is used for training.\n",
    "\n",
    "X_train, X_test, y_train, y_test = train_test_split(X, y, test_size=0.2)\n"
   ]
  },
  {
   "cell_type": "code",
   "execution_count": 62,
   "metadata": {
    "id": "-D6PoO4SvFhu"
   },
   "outputs": [],
   "source": [
    "from sklearn.ensemble import RandomForestClassifier\n",
    "Random_forest_model=RandomForestClassifier()"
   ]
  },
  {
   "cell_type": "code",
   "execution_count": 63,
   "metadata": {
    "colab": {
     "base_uri": "https://localhost:8080/",
     "height": 243
    },
    "id": "mBrNilOJvQ5n",
    "outputId": "a0dad2bf-128e-4993-97ec-7ae4e0bafeb0"
   },
   "outputs": [
    {
     "data": {
      "text/html": [
       "<div>\n",
       "<style scoped>\n",
       "    .dataframe tbody tr th:only-of-type {\n",
       "        vertical-align: middle;\n",
       "    }\n",
       "\n",
       "    .dataframe tbody tr th {\n",
       "        vertical-align: top;\n",
       "    }\n",
       "\n",
       "    .dataframe thead th {\n",
       "        text-align: right;\n",
       "    }\n",
       "</style>\n",
       "<table border=\"1\" class=\"dataframe\">\n",
       "  <thead>\n",
       "    <tr style=\"text-align: right;\">\n",
       "      <th></th>\n",
       "      <th>tier</th>\n",
       "      <th>cgpa</th>\n",
       "      <th>inter_gpa</th>\n",
       "      <th>ssc_gpa</th>\n",
       "      <th>internships</th>\n",
       "      <th>no_of_projects</th>\n",
       "      <th>is_participate_hackathon</th>\n",
       "      <th>is_participated_extracurricular</th>\n",
       "      <th>no_of_programming_languages</th>\n",
       "      <th>dsa</th>\n",
       "      <th>mobile_dev</th>\n",
       "      <th>web_dev</th>\n",
       "      <th>Machine Learning</th>\n",
       "      <th>cloud</th>\n",
       "      <th>CSE</th>\n",
       "      <th>ECE</th>\n",
       "      <th>IT</th>\n",
       "      <th>MECH</th>\n",
       "    </tr>\n",
       "  </thead>\n",
       "  <tbody>\n",
       "    <tr>\n",
       "      <th>55</th>\n",
       "      <td>1</td>\n",
       "      <td>8.8</td>\n",
       "      <td>9.400000</td>\n",
       "      <td>9.70000</td>\n",
       "      <td>1</td>\n",
       "      <td>3</td>\n",
       "      <td>1</td>\n",
       "      <td>1</td>\n",
       "      <td>2</td>\n",
       "      <td>0</td>\n",
       "      <td>0</td>\n",
       "      <td>0</td>\n",
       "      <td>0</td>\n",
       "      <td>0</td>\n",
       "      <td>0</td>\n",
       "      <td>0</td>\n",
       "      <td>0</td>\n",
       "      <td>1</td>\n",
       "    </tr>\n",
       "    <tr>\n",
       "      <th>80</th>\n",
       "      <td>1</td>\n",
       "      <td>8.7</td>\n",
       "      <td>12.205063</td>\n",
       "      <td>10.55375</td>\n",
       "      <td>1</td>\n",
       "      <td>4</td>\n",
       "      <td>1</td>\n",
       "      <td>0</td>\n",
       "      <td>4</td>\n",
       "      <td>1</td>\n",
       "      <td>0</td>\n",
       "      <td>1</td>\n",
       "      <td>1</td>\n",
       "      <td>0</td>\n",
       "      <td>1</td>\n",
       "      <td>0</td>\n",
       "      <td>0</td>\n",
       "      <td>0</td>\n",
       "    </tr>\n",
       "    <tr>\n",
       "      <th>84</th>\n",
       "      <td>1</td>\n",
       "      <td>9.5</td>\n",
       "      <td>9.500000</td>\n",
       "      <td>10.00000</td>\n",
       "      <td>1</td>\n",
       "      <td>5</td>\n",
       "      <td>1</td>\n",
       "      <td>1</td>\n",
       "      <td>5</td>\n",
       "      <td>1</td>\n",
       "      <td>0</td>\n",
       "      <td>1</td>\n",
       "      <td>1</td>\n",
       "      <td>0</td>\n",
       "      <td>1</td>\n",
       "      <td>0</td>\n",
       "      <td>0</td>\n",
       "      <td>0</td>\n",
       "    </tr>\n",
       "    <tr>\n",
       "      <th>112</th>\n",
       "      <td>3</td>\n",
       "      <td>8.0</td>\n",
       "      <td>12.205063</td>\n",
       "      <td>10.55375</td>\n",
       "      <td>2</td>\n",
       "      <td>4</td>\n",
       "      <td>0</td>\n",
       "      <td>1</td>\n",
       "      <td>2</td>\n",
       "      <td>0</td>\n",
       "      <td>0</td>\n",
       "      <td>0</td>\n",
       "      <td>1</td>\n",
       "      <td>0</td>\n",
       "      <td>1</td>\n",
       "      <td>0</td>\n",
       "      <td>0</td>\n",
       "      <td>0</td>\n",
       "    </tr>\n",
       "    <tr>\n",
       "      <th>97</th>\n",
       "      <td>3</td>\n",
       "      <td>5.0</td>\n",
       "      <td>7.400000</td>\n",
       "      <td>8.50000</td>\n",
       "      <td>0</td>\n",
       "      <td>1</td>\n",
       "      <td>0</td>\n",
       "      <td>0</td>\n",
       "      <td>0</td>\n",
       "      <td>0</td>\n",
       "      <td>0</td>\n",
       "      <td>0</td>\n",
       "      <td>0</td>\n",
       "      <td>0</td>\n",
       "      <td>0</td>\n",
       "      <td>1</td>\n",
       "      <td>0</td>\n",
       "      <td>0</td>\n",
       "    </tr>\n",
       "  </tbody>\n",
       "</table>\n",
       "</div>"
      ],
      "text/plain": [
       "     tier  cgpa  inter_gpa   ssc_gpa  internships  no_of_projects  \\\n",
       "55      1   8.8   9.400000   9.70000            1               3   \n",
       "80      1   8.7  12.205063  10.55375            1               4   \n",
       "84      1   9.5   9.500000  10.00000            1               5   \n",
       "112     3   8.0  12.205063  10.55375            2               4   \n",
       "97      3   5.0   7.400000   8.50000            0               1   \n",
       "\n",
       "     is_participate_hackathon  is_participated_extracurricular  \\\n",
       "55                          1                                1   \n",
       "80                          1                                0   \n",
       "84                          1                                1   \n",
       "112                         0                                1   \n",
       "97                          0                                0   \n",
       "\n",
       "     no_of_programming_languages  dsa  mobile_dev  web_dev  Machine Learning  \\\n",
       "55                             2    0           0        0                 0   \n",
       "80                             4    1           0        1                 1   \n",
       "84                             5    1           0        1                 1   \n",
       "112                            2    0           0        0                 1   \n",
       "97                             0    0           0        0                 0   \n",
       "\n",
       "     cloud  CSE  ECE  IT  MECH  \n",
       "55       0    0    0   0     1  \n",
       "80       0    1    0   0     0  \n",
       "84       0    1    0   0     0  \n",
       "112      0    1    0   0     0  \n",
       "97       0    0    1   0     0  "
      ]
     },
     "execution_count": 63,
     "metadata": {},
     "output_type": "execute_result"
    }
   ],
   "source": [
    "X_train.head()"
   ]
  },
  {
   "cell_type": "code",
   "execution_count": 64,
   "metadata": {
    "colab": {
     "base_uri": "https://localhost:8080/"
    },
    "id": "mrlYx8AuvUMG",
    "outputId": "5e063547-e449-43ae-f9b5-1eacd992667a"
   },
   "outputs": [
    {
     "data": {
      "text/plain": [
       "55     1\n",
       "80     1\n",
       "84     1\n",
       "112    1\n",
       "97     0\n",
       "      ..\n",
       "101    0\n",
       "109    1\n",
       "77     1\n",
       "28     1\n",
       "57     1\n",
       "Name: is_placed, Length: 108, dtype: int64"
      ]
     },
     "execution_count": 64,
     "metadata": {},
     "output_type": "execute_result"
    }
   ],
   "source": [
    "y_train"
   ]
  },
  {
   "cell_type": "code",
   "execution_count": 65,
   "metadata": {
    "colab": {
     "base_uri": "https://localhost:8080/",
     "height": 74
    },
    "id": "Z21dYQmQWcfR",
    "outputId": "757cd67e-0b4c-4aa0-9d8d-3f1e6e9c2fba"
   },
   "outputs": [
    {
     "data": {
      "text/html": [
       "<style>#sk-container-id-1 {color: black;background-color: white;}#sk-container-id-1 pre{padding: 0;}#sk-container-id-1 div.sk-toggleable {background-color: white;}#sk-container-id-1 label.sk-toggleable__label {cursor: pointer;display: block;width: 100%;margin-bottom: 0;padding: 0.3em;box-sizing: border-box;text-align: center;}#sk-container-id-1 label.sk-toggleable__label-arrow:before {content: \"▸\";float: left;margin-right: 0.25em;color: #696969;}#sk-container-id-1 label.sk-toggleable__label-arrow:hover:before {color: black;}#sk-container-id-1 div.sk-estimator:hover label.sk-toggleable__label-arrow:before {color: black;}#sk-container-id-1 div.sk-toggleable__content {max-height: 0;max-width: 0;overflow: hidden;text-align: left;background-color: #f0f8ff;}#sk-container-id-1 div.sk-toggleable__content pre {margin: 0.2em;color: black;border-radius: 0.25em;background-color: #f0f8ff;}#sk-container-id-1 input.sk-toggleable__control:checked~div.sk-toggleable__content {max-height: 200px;max-width: 100%;overflow: auto;}#sk-container-id-1 input.sk-toggleable__control:checked~label.sk-toggleable__label-arrow:before {content: \"▾\";}#sk-container-id-1 div.sk-estimator input.sk-toggleable__control:checked~label.sk-toggleable__label {background-color: #d4ebff;}#sk-container-id-1 div.sk-label input.sk-toggleable__control:checked~label.sk-toggleable__label {background-color: #d4ebff;}#sk-container-id-1 input.sk-hidden--visually {border: 0;clip: rect(1px 1px 1px 1px);clip: rect(1px, 1px, 1px, 1px);height: 1px;margin: -1px;overflow: hidden;padding: 0;position: absolute;width: 1px;}#sk-container-id-1 div.sk-estimator {font-family: monospace;background-color: #f0f8ff;border: 1px dotted black;border-radius: 0.25em;box-sizing: border-box;margin-bottom: 0.5em;}#sk-container-id-1 div.sk-estimator:hover {background-color: #d4ebff;}#sk-container-id-1 div.sk-parallel-item::after {content: \"\";width: 100%;border-bottom: 1px solid gray;flex-grow: 1;}#sk-container-id-1 div.sk-label:hover label.sk-toggleable__label {background-color: #d4ebff;}#sk-container-id-1 div.sk-serial::before {content: \"\";position: absolute;border-left: 1px solid gray;box-sizing: border-box;top: 0;bottom: 0;left: 50%;z-index: 0;}#sk-container-id-1 div.sk-serial {display: flex;flex-direction: column;align-items: center;background-color: white;padding-right: 0.2em;padding-left: 0.2em;position: relative;}#sk-container-id-1 div.sk-item {position: relative;z-index: 1;}#sk-container-id-1 div.sk-parallel {display: flex;align-items: stretch;justify-content: center;background-color: white;position: relative;}#sk-container-id-1 div.sk-item::before, #sk-container-id-1 div.sk-parallel-item::before {content: \"\";position: absolute;border-left: 1px solid gray;box-sizing: border-box;top: 0;bottom: 0;left: 50%;z-index: -1;}#sk-container-id-1 div.sk-parallel-item {display: flex;flex-direction: column;z-index: 1;position: relative;background-color: white;}#sk-container-id-1 div.sk-parallel-item:first-child::after {align-self: flex-end;width: 50%;}#sk-container-id-1 div.sk-parallel-item:last-child::after {align-self: flex-start;width: 50%;}#sk-container-id-1 div.sk-parallel-item:only-child::after {width: 0;}#sk-container-id-1 div.sk-dashed-wrapped {border: 1px dashed gray;margin: 0 0.4em 0.5em 0.4em;box-sizing: border-box;padding-bottom: 0.4em;background-color: white;}#sk-container-id-1 div.sk-label label {font-family: monospace;font-weight: bold;display: inline-block;line-height: 1.2em;}#sk-container-id-1 div.sk-label-container {text-align: center;}#sk-container-id-1 div.sk-container {/* jupyter's `normalize.less` sets `[hidden] { display: none; }` but bootstrap.min.css set `[hidden] { display: none !important; }` so we also need the `!important` here to be able to override the default hidden behavior on the sphinx rendered scikit-learn.org. See: https://github.com/scikit-learn/scikit-learn/issues/21755 */display: inline-block !important;position: relative;}#sk-container-id-1 div.sk-text-repr-fallback {display: none;}</style><div id=\"sk-container-id-1\" class=\"sk-top-container\"><div class=\"sk-text-repr-fallback\"><pre>RandomForestClassifier()</pre><b>In a Jupyter environment, please rerun this cell to show the HTML representation or trust the notebook. <br />On GitHub, the HTML representation is unable to render, please try loading this page with nbviewer.org.</b></div><div class=\"sk-container\" hidden><div class=\"sk-item\"><div class=\"sk-estimator sk-toggleable\"><input class=\"sk-toggleable__control sk-hidden--visually\" id=\"sk-estimator-id-1\" type=\"checkbox\" checked><label for=\"sk-estimator-id-1\" class=\"sk-toggleable__label sk-toggleable__label-arrow\">RandomForestClassifier</label><div class=\"sk-toggleable__content\"><pre>RandomForestClassifier()</pre></div></div></div></div></div>"
      ],
      "text/plain": [
       "RandomForestClassifier()"
      ]
     },
     "execution_count": 65,
     "metadata": {},
     "output_type": "execute_result"
    }
   ],
   "source": [
    "Random_forest_model.fit(X_train,y_train)"
   ]
  },
  {
   "cell_type": "code",
   "execution_count": 66,
   "metadata": {
    "colab": {
     "base_uri": "https://localhost:8080/"
    },
    "id": "ZHbNCTonZiyW",
    "outputId": "3f5f0660-7e96-46f4-e74c-19d5799d85d6"
   },
   "outputs": [
    {
     "data": {
      "text/plain": [
       "1.0"
      ]
     },
     "execution_count": 66,
     "metadata": {},
     "output_type": "execute_result"
    }
   ],
   "source": [
    "Random_forest_model.score(X_train,y_train)"
   ]
  },
  {
   "cell_type": "code",
   "execution_count": 68,
   "metadata": {
    "id": "FBBoQQy1ZoeI"
   },
   "outputs": [],
   "source": [
    "output = Random_forest_model.predict(X_test)"
   ]
  },
  {
   "cell_type": "code",
   "execution_count": 24,
   "metadata": {
    "colab": {
     "base_uri": "https://localhost:8080/"
    },
    "id": "oyFaGsIjZyEX",
    "outputId": "235660ab-dac9-4c0c-c6b9-848bd7ce54dd"
   },
   "outputs": [
    {
     "data": {
      "text/plain": [
       "array([1, 1, 0, 1, 1, 1, 0, 0, 1, 1, 1, 0, 1, 1, 1, 1, 1, 0, 1, 0, 1, 1,\n",
       "       0, 0, 1, 0, 1])"
      ]
     },
     "execution_count": 24,
     "metadata": {},
     "output_type": "execute_result"
    }
   ],
   "source": [
    "output"
   ]
  },
  {
   "cell_type": "code",
   "execution_count": 69,
   "metadata": {
    "id": "6-8QQpipZz21"
   },
   "outputs": [],
   "source": [
    "from sklearn.metrics import accuracy_score,f1_score,confusion_matrix,precision_score,recall_score\n",
    "from sklearn.tree import DecisionTreeClassifier\n",
    "from sklearn.linear_model import LogisticRegression\n",
    "from sklearn.naive_bayes import GaussianNB"
   ]
  },
  {
   "cell_type": "code",
   "execution_count": 73,
   "metadata": {
    "colab": {
     "base_uri": "https://localhost:8080/"
    },
    "id": "75uxNyxYZ9iX",
    "outputId": "f658e613-cfb0-4066-93f0-cf111c3cc5bb"
   },
   "outputs": [
    {
     "name": "stderr",
     "output_type": "stream",
     "text": [
      "/opt/conda/envs/Python-3.10/lib/python3.10/site-packages/sklearn/linear_model/_logistic.py:444: ConvergenceWarning: lbfgs failed to converge (status=1):\n",
      "STOP: TOTAL NO. of ITERATIONS REACHED LIMIT.\n",
      "\n",
      "Increase the number of iterations (max_iter) or scale the data as shown in:\n",
      "    https://scikit-learn.org/stable/modules/preprocessing.html\n",
      "Please also refer to the documentation for alternative solver options:\n",
      "    https://scikit-learn.org/stable/modules/linear_model.html#logistic-regression\n",
      "  n_iter_i = _check_optimize_result(\n"
     ]
    },
    {
     "name": "stdout",
     "output_type": "stream",
     "text": [
      "\n",
      "\n",
      "LogisticRegression\n",
      "===============\n",
      "Performance of the model on training set:\n",
      "- Accuracy = 95.37037037037037\n",
      "- F1 Score = 96.73202614379085\n",
      "- Precision = 96.1038961038961\n",
      "\n",
      "\n",
      "Performance of the model on testing set:\n",
      "- Accuracy = 100.0\n",
      "- F1 Score = 100.0\n",
      "- Precision = 100.0\n",
      "========================================\n",
      "\n",
      "\n",
      "RandomForestClassifier\n",
      "===============\n",
      "Performance of the model on training set:\n",
      "- Accuracy = 100.0\n",
      "- F1 Score = 100.0\n",
      "- Precision = 100.0\n",
      "\n",
      "\n",
      "Performance of the model on testing set:\n",
      "- Accuracy = 96.29629629629629\n",
      "- F1 Score = 97.2972972972973\n",
      "- Precision = 94.73684210526315\n",
      "========================================\n",
      "\n",
      "\n",
      "DecisionTree\n",
      "===============\n",
      "Performance of the model on training set:\n",
      "- Accuracy = 100.0\n",
      "- F1 Score = 100.0\n",
      "- Precision = 100.0\n",
      "\n",
      "\n",
      "Performance of the model on testing set:\n",
      "- Accuracy = 96.29629629629629\n",
      "- F1 Score = 97.14285714285714\n",
      "- Precision = 100.0\n",
      "========================================\n"
     ]
    }
   ],
   "source": [
    "# Create a dictionary containing different classification models\n",
    "models = {\n",
    "    'LogisticRegression': LogisticRegression(),\n",
    "    'RandomForestClassifier': RandomForestClassifier(),\n",
    "    'DecisionTree': DecisionTreeClassifier()\n",
    "}\n",
    "\n",
    "# Loop through each model in the dictionary\n",
    "for model_name, model in models.items():\n",
    "    # Train the model on the training data\n",
    "    model.fit(X_train, y_train)\n",
    "\n",
    "    # Predict on training and testing sets\n",
    "    y_train_pred = model.predict(X_train)\n",
    "    y_test_pred = model.predict(X_test)\n",
    "\n",
    "    # Calculate performance metrics for training set\n",
    "    model_train_accuracy = accuracy_score(y_train, y_train_pred)\n",
    "    model_train_f1 = f1_score(y_train, y_train_pred)\n",
    "    model_train_precision = precision_score(y_train, y_train_pred)\n",
    "\n",
    "    # Calculate performance metrics for testing set\n",
    "    model_test_accuracy = accuracy_score(y_test, y_test_pred)\n",
    "    model_test_f1 = f1_score(y_test, y_test_pred)\n",
    "    model_test_precision = precision_score(y_test, y_test_pred)\n",
    "\n",
    "    # Print model performance metrics\n",
    "    print('\\n')\n",
    "    print(model_name)\n",
    "    print(\"=\" * 15)\n",
    "    \n",
    "    # Print performance metrics for training set\n",
    "    print(\"Performance of the model on training set:\")\n",
    "    print('-', \"Accuracy =\", model_train_accuracy * 100)\n",
    "    print('-', \"F1 Score =\", model_train_f1 * 100)\n",
    "    print('-', \"Precision =\", model_train_precision * 100)\n",
    "\n",
    "    print('\\n')\n",
    "    # Print performance metrics for testing set\n",
    "    print(\"Performance of the model on testing set:\")\n",
    "    print('-', \"Accuracy =\", model_test_accuracy * 100)\n",
    "    print('-', \"F1 Score =\", model_test_f1 * 100)\n",
    "    print('-', \"Precision =\", model_test_precision * 100)\n",
    "\n",
    "    print(\"=\" * 40)\n"
   ]
  },
  {
   "cell_type": "code",
   "execution_count": 75,
   "metadata": {
    "colab": {
     "base_uri": "https://localhost:8080/",
     "height": 933
    },
    "id": "qrwL4UW1aJmP",
    "outputId": "f7634973-402a-4c49-f5e3-399d1d1d18cc"
   },
   "outputs": [],
   "source": [
    "'''\n",
    "Based on the provided performance metrics for each model, here's a summary of the results:\n",
    "\n",
    "Logistic Regression Model:\n",
    "------------------------------------------------------------------\n",
    "The model performs well on both the training and testing sets.\n",
    "Accuracy, F1 Score, and Precision are high on both sets.\n",
    "'''\n",
    "It shows good generalization to the testing data.\n",
    "from sklearn.linear_model import LogisticRegression\n",
    "model=LogisticRegression()"
   ]
  },
  {
   "cell_type": "code",
   "execution_count": 76,
   "metadata": {
    "colab": {
     "base_uri": "https://localhost:8080/"
    },
    "id": "KqLITAuidUHC",
    "outputId": "3abec469-7bd8-4d56-a8a6-3076ebc8e7ba"
   },
   "outputs": [
    {
     "name": "stderr",
     "output_type": "stream",
     "text": [
      "/opt/conda/envs/Python-3.10/lib/python3.10/site-packages/sklearn/linear_model/_logistic.py:444: ConvergenceWarning: lbfgs failed to converge (status=1):\n",
      "STOP: TOTAL NO. of ITERATIONS REACHED LIMIT.\n",
      "\n",
      "Increase the number of iterations (max_iter) or scale the data as shown in:\n",
      "    https://scikit-learn.org/stable/modules/preprocessing.html\n",
      "Please also refer to the documentation for alternative solver options:\n",
      "    https://scikit-learn.org/stable/modules/linear_model.html#logistic-regression\n",
      "  n_iter_i = _check_optimize_result(\n"
     ]
    },
    {
     "data": {
      "text/html": [
       "<style>#sk-container-id-2 {color: black;background-color: white;}#sk-container-id-2 pre{padding: 0;}#sk-container-id-2 div.sk-toggleable {background-color: white;}#sk-container-id-2 label.sk-toggleable__label {cursor: pointer;display: block;width: 100%;margin-bottom: 0;padding: 0.3em;box-sizing: border-box;text-align: center;}#sk-container-id-2 label.sk-toggleable__label-arrow:before {content: \"▸\";float: left;margin-right: 0.25em;color: #696969;}#sk-container-id-2 label.sk-toggleable__label-arrow:hover:before {color: black;}#sk-container-id-2 div.sk-estimator:hover label.sk-toggleable__label-arrow:before {color: black;}#sk-container-id-2 div.sk-toggleable__content {max-height: 0;max-width: 0;overflow: hidden;text-align: left;background-color: #f0f8ff;}#sk-container-id-2 div.sk-toggleable__content pre {margin: 0.2em;color: black;border-radius: 0.25em;background-color: #f0f8ff;}#sk-container-id-2 input.sk-toggleable__control:checked~div.sk-toggleable__content {max-height: 200px;max-width: 100%;overflow: auto;}#sk-container-id-2 input.sk-toggleable__control:checked~label.sk-toggleable__label-arrow:before {content: \"▾\";}#sk-container-id-2 div.sk-estimator input.sk-toggleable__control:checked~label.sk-toggleable__label {background-color: #d4ebff;}#sk-container-id-2 div.sk-label input.sk-toggleable__control:checked~label.sk-toggleable__label {background-color: #d4ebff;}#sk-container-id-2 input.sk-hidden--visually {border: 0;clip: rect(1px 1px 1px 1px);clip: rect(1px, 1px, 1px, 1px);height: 1px;margin: -1px;overflow: hidden;padding: 0;position: absolute;width: 1px;}#sk-container-id-2 div.sk-estimator {font-family: monospace;background-color: #f0f8ff;border: 1px dotted black;border-radius: 0.25em;box-sizing: border-box;margin-bottom: 0.5em;}#sk-container-id-2 div.sk-estimator:hover {background-color: #d4ebff;}#sk-container-id-2 div.sk-parallel-item::after {content: \"\";width: 100%;border-bottom: 1px solid gray;flex-grow: 1;}#sk-container-id-2 div.sk-label:hover label.sk-toggleable__label {background-color: #d4ebff;}#sk-container-id-2 div.sk-serial::before {content: \"\";position: absolute;border-left: 1px solid gray;box-sizing: border-box;top: 0;bottom: 0;left: 50%;z-index: 0;}#sk-container-id-2 div.sk-serial {display: flex;flex-direction: column;align-items: center;background-color: white;padding-right: 0.2em;padding-left: 0.2em;position: relative;}#sk-container-id-2 div.sk-item {position: relative;z-index: 1;}#sk-container-id-2 div.sk-parallel {display: flex;align-items: stretch;justify-content: center;background-color: white;position: relative;}#sk-container-id-2 div.sk-item::before, #sk-container-id-2 div.sk-parallel-item::before {content: \"\";position: absolute;border-left: 1px solid gray;box-sizing: border-box;top: 0;bottom: 0;left: 50%;z-index: -1;}#sk-container-id-2 div.sk-parallel-item {display: flex;flex-direction: column;z-index: 1;position: relative;background-color: white;}#sk-container-id-2 div.sk-parallel-item:first-child::after {align-self: flex-end;width: 50%;}#sk-container-id-2 div.sk-parallel-item:last-child::after {align-self: flex-start;width: 50%;}#sk-container-id-2 div.sk-parallel-item:only-child::after {width: 0;}#sk-container-id-2 div.sk-dashed-wrapped {border: 1px dashed gray;margin: 0 0.4em 0.5em 0.4em;box-sizing: border-box;padding-bottom: 0.4em;background-color: white;}#sk-container-id-2 div.sk-label label {font-family: monospace;font-weight: bold;display: inline-block;line-height: 1.2em;}#sk-container-id-2 div.sk-label-container {text-align: center;}#sk-container-id-2 div.sk-container {/* jupyter's `normalize.less` sets `[hidden] { display: none; }` but bootstrap.min.css set `[hidden] { display: none !important; }` so we also need the `!important` here to be able to override the default hidden behavior on the sphinx rendered scikit-learn.org. See: https://github.com/scikit-learn/scikit-learn/issues/21755 */display: inline-block !important;position: relative;}#sk-container-id-2 div.sk-text-repr-fallback {display: none;}</style><div id=\"sk-container-id-2\" class=\"sk-top-container\"><div class=\"sk-text-repr-fallback\"><pre>LogisticRegression()</pre><b>In a Jupyter environment, please rerun this cell to show the HTML representation or trust the notebook. <br />On GitHub, the HTML representation is unable to render, please try loading this page with nbviewer.org.</b></div><div class=\"sk-container\" hidden><div class=\"sk-item\"><div class=\"sk-estimator sk-toggleable\"><input class=\"sk-toggleable__control sk-hidden--visually\" id=\"sk-estimator-id-2\" type=\"checkbox\" checked><label for=\"sk-estimator-id-2\" class=\"sk-toggleable__label sk-toggleable__label-arrow\">LogisticRegression</label><div class=\"sk-toggleable__content\"><pre>LogisticRegression()</pre></div></div></div></div></div>"
      ],
      "text/plain": [
       "LogisticRegression()"
      ]
     },
     "execution_count": 76,
     "metadata": {},
     "output_type": "execute_result"
    }
   ],
   "source": [
    "model.fit(X_train,y_train)"
   ]
  },
  {
   "cell_type": "code",
   "execution_count": 77,
   "metadata": {},
   "outputs": [
    {
     "data": {
      "text/plain": [
       "array([1, 0, 1, 1, 0, 1, 0, 1, 1, 0])"
      ]
     },
     "execution_count": 77,
     "metadata": {},
     "output_type": "execute_result"
    }
   ],
   "source": [
    "model.predict(X_test[:10])"
   ]
  },
  {
   "cell_type": "code",
   "execution_count": 78,
   "metadata": {
    "colab": {
     "base_uri": "https://localhost:8080/",
     "height": 400
    },
    "id": "Lb6XrEi3cplv",
    "outputId": "9158bd52-218c-4ac0-c8be-17db532b6224"
   },
   "outputs": [
    {
     "data": {
      "text/html": [
       "<div>\n",
       "<style scoped>\n",
       "    .dataframe tbody tr th:only-of-type {\n",
       "        vertical-align: middle;\n",
       "    }\n",
       "\n",
       "    .dataframe tbody tr th {\n",
       "        vertical-align: top;\n",
       "    }\n",
       "\n",
       "    .dataframe thead th {\n",
       "        text-align: right;\n",
       "    }\n",
       "</style>\n",
       "<table border=\"1\" class=\"dataframe\">\n",
       "  <thead>\n",
       "    <tr style=\"text-align: right;\">\n",
       "      <th></th>\n",
       "      <th>tier</th>\n",
       "      <th>cgpa</th>\n",
       "      <th>inter_gpa</th>\n",
       "      <th>ssc_gpa</th>\n",
       "      <th>internships</th>\n",
       "      <th>no_of_projects</th>\n",
       "      <th>is_participate_hackathon</th>\n",
       "      <th>is_participated_extracurricular</th>\n",
       "      <th>no_of_programming_languages</th>\n",
       "      <th>dsa</th>\n",
       "      <th>mobile_dev</th>\n",
       "      <th>web_dev</th>\n",
       "      <th>Machine Learning</th>\n",
       "      <th>cloud</th>\n",
       "      <th>is_placed</th>\n",
       "      <th>CSE</th>\n",
       "      <th>ECE</th>\n",
       "      <th>IT</th>\n",
       "      <th>MECH</th>\n",
       "    </tr>\n",
       "  </thead>\n",
       "  <tbody>\n",
       "    <tr>\n",
       "      <th>0</th>\n",
       "      <td>1</td>\n",
       "      <td>8.135556</td>\n",
       "      <td>12.205063</td>\n",
       "      <td>10.00000</td>\n",
       "      <td>2</td>\n",
       "      <td>5</td>\n",
       "      <td>1</td>\n",
       "      <td>1</td>\n",
       "      <td>4</td>\n",
       "      <td>1</td>\n",
       "      <td>0</td>\n",
       "      <td>1</td>\n",
       "      <td>1</td>\n",
       "      <td>0</td>\n",
       "      <td>1</td>\n",
       "      <td>1</td>\n",
       "      <td>0</td>\n",
       "      <td>0</td>\n",
       "      <td>0</td>\n",
       "    </tr>\n",
       "    <tr>\n",
       "      <th>1</th>\n",
       "      <td>1</td>\n",
       "      <td>8.135556</td>\n",
       "      <td>12.205063</td>\n",
       "      <td>10.00000</td>\n",
       "      <td>1</td>\n",
       "      <td>4</td>\n",
       "      <td>1</td>\n",
       "      <td>1</td>\n",
       "      <td>4</td>\n",
       "      <td>1</td>\n",
       "      <td>0</td>\n",
       "      <td>1</td>\n",
       "      <td>1</td>\n",
       "      <td>0</td>\n",
       "      <td>1</td>\n",
       "      <td>1</td>\n",
       "      <td>0</td>\n",
       "      <td>0</td>\n",
       "      <td>0</td>\n",
       "    </tr>\n",
       "    <tr>\n",
       "      <th>2</th>\n",
       "      <td>1</td>\n",
       "      <td>8.135556</td>\n",
       "      <td>12.205063</td>\n",
       "      <td>10.55375</td>\n",
       "      <td>1</td>\n",
       "      <td>5</td>\n",
       "      <td>1</td>\n",
       "      <td>1</td>\n",
       "      <td>5</td>\n",
       "      <td>1</td>\n",
       "      <td>0</td>\n",
       "      <td>1</td>\n",
       "      <td>1</td>\n",
       "      <td>0</td>\n",
       "      <td>1</td>\n",
       "      <td>1</td>\n",
       "      <td>0</td>\n",
       "      <td>0</td>\n",
       "      <td>0</td>\n",
       "    </tr>\n",
       "    <tr>\n",
       "      <th>3</th>\n",
       "      <td>1</td>\n",
       "      <td>9.590000</td>\n",
       "      <td>12.205063</td>\n",
       "      <td>10.00000</td>\n",
       "      <td>3</td>\n",
       "      <td>8</td>\n",
       "      <td>1</td>\n",
       "      <td>1</td>\n",
       "      <td>5</td>\n",
       "      <td>1</td>\n",
       "      <td>0</td>\n",
       "      <td>1</td>\n",
       "      <td>1</td>\n",
       "      <td>0</td>\n",
       "      <td>1</td>\n",
       "      <td>1</td>\n",
       "      <td>0</td>\n",
       "      <td>0</td>\n",
       "      <td>0</td>\n",
       "    </tr>\n",
       "    <tr>\n",
       "      <th>4</th>\n",
       "      <td>1</td>\n",
       "      <td>8.135556</td>\n",
       "      <td>12.205063</td>\n",
       "      <td>9.80000</td>\n",
       "      <td>3</td>\n",
       "      <td>4</td>\n",
       "      <td>1</td>\n",
       "      <td>1</td>\n",
       "      <td>3</td>\n",
       "      <td>1</td>\n",
       "      <td>0</td>\n",
       "      <td>1</td>\n",
       "      <td>1</td>\n",
       "      <td>0</td>\n",
       "      <td>1</td>\n",
       "      <td>1</td>\n",
       "      <td>0</td>\n",
       "      <td>0</td>\n",
       "      <td>0</td>\n",
       "    </tr>\n",
       "    <tr>\n",
       "      <th>5</th>\n",
       "      <td>1</td>\n",
       "      <td>8.310000</td>\n",
       "      <td>9.800000</td>\n",
       "      <td>10.00000</td>\n",
       "      <td>1</td>\n",
       "      <td>6</td>\n",
       "      <td>0</td>\n",
       "      <td>1</td>\n",
       "      <td>5</td>\n",
       "      <td>1</td>\n",
       "      <td>0</td>\n",
       "      <td>1</td>\n",
       "      <td>1</td>\n",
       "      <td>0</td>\n",
       "      <td>1</td>\n",
       "      <td>1</td>\n",
       "      <td>0</td>\n",
       "      <td>0</td>\n",
       "      <td>0</td>\n",
       "    </tr>\n",
       "    <tr>\n",
       "      <th>6</th>\n",
       "      <td>1</td>\n",
       "      <td>8.100000</td>\n",
       "      <td>9.000000</td>\n",
       "      <td>9.10000</td>\n",
       "      <td>0</td>\n",
       "      <td>6</td>\n",
       "      <td>0</td>\n",
       "      <td>1</td>\n",
       "      <td>4</td>\n",
       "      <td>1</td>\n",
       "      <td>0</td>\n",
       "      <td>1</td>\n",
       "      <td>1</td>\n",
       "      <td>0</td>\n",
       "      <td>1</td>\n",
       "      <td>1</td>\n",
       "      <td>0</td>\n",
       "      <td>0</td>\n",
       "      <td>0</td>\n",
       "    </tr>\n",
       "    <tr>\n",
       "      <th>7</th>\n",
       "      <td>1</td>\n",
       "      <td>8.900000</td>\n",
       "      <td>12.205063</td>\n",
       "      <td>9.70000</td>\n",
       "      <td>2</td>\n",
       "      <td>4</td>\n",
       "      <td>0</td>\n",
       "      <td>1</td>\n",
       "      <td>3</td>\n",
       "      <td>1</td>\n",
       "      <td>0</td>\n",
       "      <td>1</td>\n",
       "      <td>0</td>\n",
       "      <td>0</td>\n",
       "      <td>1</td>\n",
       "      <td>1</td>\n",
       "      <td>0</td>\n",
       "      <td>0</td>\n",
       "      <td>0</td>\n",
       "    </tr>\n",
       "    <tr>\n",
       "      <th>8</th>\n",
       "      <td>1</td>\n",
       "      <td>7.700000</td>\n",
       "      <td>12.205063</td>\n",
       "      <td>10.55375</td>\n",
       "      <td>1</td>\n",
       "      <td>4</td>\n",
       "      <td>0</td>\n",
       "      <td>1</td>\n",
       "      <td>4</td>\n",
       "      <td>1</td>\n",
       "      <td>0</td>\n",
       "      <td>1</td>\n",
       "      <td>1</td>\n",
       "      <td>0</td>\n",
       "      <td>1</td>\n",
       "      <td>1</td>\n",
       "      <td>0</td>\n",
       "      <td>0</td>\n",
       "      <td>0</td>\n",
       "    </tr>\n",
       "    <tr>\n",
       "      <th>9</th>\n",
       "      <td>1</td>\n",
       "      <td>9.520000</td>\n",
       "      <td>12.205063</td>\n",
       "      <td>10.55375</td>\n",
       "      <td>3</td>\n",
       "      <td>2</td>\n",
       "      <td>1</td>\n",
       "      <td>1</td>\n",
       "      <td>5</td>\n",
       "      <td>1</td>\n",
       "      <td>0</td>\n",
       "      <td>1</td>\n",
       "      <td>0</td>\n",
       "      <td>0</td>\n",
       "      <td>1</td>\n",
       "      <td>1</td>\n",
       "      <td>0</td>\n",
       "      <td>0</td>\n",
       "      <td>0</td>\n",
       "    </tr>\n",
       "  </tbody>\n",
       "</table>\n",
       "</div>"
      ],
      "text/plain": [
       "   tier      cgpa  inter_gpa   ssc_gpa  internships  no_of_projects  \\\n",
       "0     1  8.135556  12.205063  10.00000            2               5   \n",
       "1     1  8.135556  12.205063  10.00000            1               4   \n",
       "2     1  8.135556  12.205063  10.55375            1               5   \n",
       "3     1  9.590000  12.205063  10.00000            3               8   \n",
       "4     1  8.135556  12.205063   9.80000            3               4   \n",
       "5     1  8.310000   9.800000  10.00000            1               6   \n",
       "6     1  8.100000   9.000000   9.10000            0               6   \n",
       "7     1  8.900000  12.205063   9.70000            2               4   \n",
       "8     1  7.700000  12.205063  10.55375            1               4   \n",
       "9     1  9.520000  12.205063  10.55375            3               2   \n",
       "\n",
       "   is_participate_hackathon  is_participated_extracurricular  \\\n",
       "0                         1                                1   \n",
       "1                         1                                1   \n",
       "2                         1                                1   \n",
       "3                         1                                1   \n",
       "4                         1                                1   \n",
       "5                         0                                1   \n",
       "6                         0                                1   \n",
       "7                         0                                1   \n",
       "8                         0                                1   \n",
       "9                         1                                1   \n",
       "\n",
       "   no_of_programming_languages  dsa  mobile_dev  web_dev  Machine Learning  \\\n",
       "0                            4    1           0        1                 1   \n",
       "1                            4    1           0        1                 1   \n",
       "2                            5    1           0        1                 1   \n",
       "3                            5    1           0        1                 1   \n",
       "4                            3    1           0        1                 1   \n",
       "5                            5    1           0        1                 1   \n",
       "6                            4    1           0        1                 1   \n",
       "7                            3    1           0        1                 0   \n",
       "8                            4    1           0        1                 1   \n",
       "9                            5    1           0        1                 0   \n",
       "\n",
       "   cloud  is_placed  CSE  ECE  IT  MECH  \n",
       "0      0          1    1    0   0     0  \n",
       "1      0          1    1    0   0     0  \n",
       "2      0          1    1    0   0     0  \n",
       "3      0          1    1    0   0     0  \n",
       "4      0          1    1    0   0     0  \n",
       "5      0          1    1    0   0     0  \n",
       "6      0          1    1    0   0     0  \n",
       "7      0          1    1    0   0     0  \n",
       "8      0          1    1    0   0     0  \n",
       "9      0          1    1    0   0     0  "
      ]
     },
     "execution_count": 78,
     "metadata": {},
     "output_type": "execute_result"
    }
   ],
   "source": [
    "df.head(10)"
   ]
  },
  {
   "cell_type": "code",
   "execution_count": 79,
   "metadata": {
    "colab": {
     "base_uri": "https://localhost:8080/"
    },
    "id": "OXqE2CIKvhn6",
    "outputId": "e9ec7520-883b-436a-ceb1-cede263655c4"
   },
   "outputs": [
    {
     "data": {
      "text/plain": [
       "Index(['tier', 'cgpa', 'inter_gpa', 'ssc_gpa', 'internships', 'no_of_projects',\n",
       "       'is_participate_hackathon', 'is_participated_extracurricular',\n",
       "       'no_of_programming_languages', 'dsa', 'mobile_dev', 'web_dev',\n",
       "       'Machine Learning', 'cloud', 'CSE', 'ECE', 'IT', 'MECH'],\n",
       "      dtype='object')"
      ]
     },
     "execution_count": 79,
     "metadata": {},
     "output_type": "execute_result"
    }
   ],
   "source": [
    "import numpy as np\n",
    "X_test.columns"
   ]
  },
  {
   "cell_type": "code",
   "execution_count": 81,
   "metadata": {
    "id": "OvlaC5x-bTJO"
   },
   "outputs": [],
   "source": [
    "# Saving the model\n",
    "import pickle\n",
    "pickle.dump(model,open('salary_model.pkl', 'wb'))"
   ]
  },
  {
   "cell_type": "code",
   "execution_count": 82,
   "metadata": {
    "colab": {
     "base_uri": "https://localhost:8080/",
     "height": 461
    },
    "id": "0mAW9NmKhj1N",
    "outputId": "d7461645-5050-4a27-9472-6cb3edafbad9"
   },
   "outputs": [
    {
     "name": "stdout",
     "output_type": "stream",
     "text": [
      "Requirement already satisfied: ibm-watson-machine-learning in /opt/conda/envs/Python-3.10/lib/python3.10/site-packages (1.0.316)\n",
      "Requirement already satisfied: lomond in /opt/conda/envs/Python-3.10/lib/python3.10/site-packages (from ibm-watson-machine-learning) (0.3.3)\n",
      "Requirement already satisfied: packaging in /opt/conda/envs/Python-3.10/lib/python3.10/site-packages (from ibm-watson-machine-learning) (21.3)\n",
      "Requirement already satisfied: importlib-metadata in /opt/conda/envs/Python-3.10/lib/python3.10/site-packages (from ibm-watson-machine-learning) (4.11.3)\n",
      "Requirement already satisfied: tabulate in /opt/conda/envs/Python-3.10/lib/python3.10/site-packages (from ibm-watson-machine-learning) (0.8.10)\n",
      "Requirement already satisfied: certifi in /opt/conda/envs/Python-3.10/lib/python3.10/site-packages (from ibm-watson-machine-learning) (2023.7.22)\n",
      "Requirement already satisfied: requests in /opt/conda/envs/Python-3.10/lib/python3.10/site-packages (from ibm-watson-machine-learning) (2.31.0)\n",
      "Requirement already satisfied: ibm-cos-sdk<2.14.0,>=2.12.0 in /opt/conda/envs/Python-3.10/lib/python3.10/site-packages (from ibm-watson-machine-learning) (2.12.0)\n",
      "Requirement already satisfied: pandas<1.6.0,>=0.24.2 in /opt/conda/envs/Python-3.10/lib/python3.10/site-packages (from ibm-watson-machine-learning) (1.4.3)\n",
      "Requirement already satisfied: urllib3 in /opt/conda/envs/Python-3.10/lib/python3.10/site-packages (from ibm-watson-machine-learning) (1.26.11)\n",
      "Requirement already satisfied: ibm-cos-sdk-core==2.12.0 in /opt/conda/envs/Python-3.10/lib/python3.10/site-packages (from ibm-cos-sdk<2.14.0,>=2.12.0->ibm-watson-machine-learning) (2.12.0)\n",
      "Requirement already satisfied: jmespath<1.0.0,>=0.10.0 in /opt/conda/envs/Python-3.10/lib/python3.10/site-packages (from ibm-cos-sdk<2.14.0,>=2.12.0->ibm-watson-machine-learning) (0.10.0)\n",
      "Requirement already satisfied: ibm-cos-sdk-s3transfer==2.12.0 in /opt/conda/envs/Python-3.10/lib/python3.10/site-packages (from ibm-cos-sdk<2.14.0,>=2.12.0->ibm-watson-machine-learning) (2.12.0)\n",
      "Requirement already satisfied: python-dateutil<3.0.0,>=2.8.2 in /opt/conda/envs/Python-3.10/lib/python3.10/site-packages (from ibm-cos-sdk-core==2.12.0->ibm-cos-sdk<2.14.0,>=2.12.0->ibm-watson-machine-learning) (2.8.2)\n",
      "Requirement already satisfied: pytz>=2020.1 in /opt/conda/envs/Python-3.10/lib/python3.10/site-packages (from pandas<1.6.0,>=0.24.2->ibm-watson-machine-learning) (2022.1)\n",
      "Requirement already satisfied: numpy>=1.21.0 in /opt/conda/envs/Python-3.10/lib/python3.10/site-packages (from pandas<1.6.0,>=0.24.2->ibm-watson-machine-learning) (1.23.1)\n",
      "Requirement already satisfied: charset-normalizer<4,>=2 in /opt/conda/envs/Python-3.10/lib/python3.10/site-packages (from requests->ibm-watson-machine-learning) (2.0.4)\n",
      "Requirement already satisfied: idna<4,>=2.5 in /opt/conda/envs/Python-3.10/lib/python3.10/site-packages (from requests->ibm-watson-machine-learning) (3.3)\n",
      "Requirement already satisfied: zipp>=0.5 in /opt/conda/envs/Python-3.10/lib/python3.10/site-packages (from importlib-metadata->ibm-watson-machine-learning) (3.8.0)\n",
      "Requirement already satisfied: six>=1.10.0 in /opt/conda/envs/Python-3.10/lib/python3.10/site-packages (from lomond->ibm-watson-machine-learning) (1.16.0)\n",
      "Requirement already satisfied: pyparsing!=3.0.5,>=2.0.2 in /opt/conda/envs/Python-3.10/lib/python3.10/site-packages (from packaging->ibm-watson-machine-learning) (3.0.9)\n"
     ]
    }
   ],
   "source": [
    "!pip install -U ibm-watson-machine-learning"
   ]
  },
  {
   "cell_type": "code",
   "execution_count": 85,
   "metadata": {
    "id": "DGfRfXh1hjp0"
   },
   "outputs": [],
   "source": [
    "from ibm_watson_machine_learning import APIClient\n",
    "import json\n",
    "import numpy as np"
   ]
  },
  {
   "cell_type": "code",
   "execution_count": 86,
   "metadata": {
    "id": "mNVymoQjhjhH"
   },
   "outputs": [],
   "source": [
    "# authenticate ans set space\n",
    "wml_credentials={\n",
    "    \"apikey\":\"mXU6y4Gya8JF0NyNZC-ALe3L_2NxXB-vVULuRriTT_PA\",\n",
    "    \"url\":\"https://eu-gb.ml.cloud.ibm.com\"\n",
    "}"
   ]
  },
  {
   "cell_type": "code",
   "execution_count": 87,
   "metadata": {
    "colab": {
     "base_uri": "https://localhost:8080/"
    },
    "id": "27cPgAiCvkfc",
    "outputId": "f8a1156b-8bf9-458a-854e-37f98cc0d869"
   },
   "outputs": [],
   "source": [
    "wml_client=APIClient(wml_credentials)"
   ]
  },
  {
   "cell_type": "code",
   "execution_count": 88,
   "metadata": {
    "id": "V1vSF0dMKxYR"
   },
   "outputs": [
    {
     "name": "stdout",
     "output_type": "stream",
     "text": [
      "Note: 'limit' is not provided. Only first 50 records will be displayed if the number of records exceed 50\n",
      "------------------------------------  --------------------  ------------------------\n",
      "ID                                    NAME                  CREATED\n",
      "98d205c3-7f14-4b96-9c8d-56d5b49fc57a  Salary_prediction     2023-08-26T14:01:31.184Z\n",
      "533b833a-a4c6-4d55-921c-b42603766374  Placement_prediction  2023-08-24T16:33:22.454Z\n",
      "------------------------------------  --------------------  ------------------------\n"
     ]
    },
    {
     "data": {
      "text/html": [
       "<div>\n",
       "<style scoped>\n",
       "    .dataframe tbody tr th:only-of-type {\n",
       "        vertical-align: middle;\n",
       "    }\n",
       "\n",
       "    .dataframe tbody tr th {\n",
       "        vertical-align: top;\n",
       "    }\n",
       "\n",
       "    .dataframe thead th {\n",
       "        text-align: right;\n",
       "    }\n",
       "</style>\n",
       "<table border=\"1\" class=\"dataframe\">\n",
       "  <thead>\n",
       "    <tr style=\"text-align: right;\">\n",
       "      <th></th>\n",
       "      <th>ID</th>\n",
       "      <th>NAME</th>\n",
       "      <th>CREATED</th>\n",
       "    </tr>\n",
       "  </thead>\n",
       "  <tbody>\n",
       "    <tr>\n",
       "      <th>0</th>\n",
       "      <td>98d205c3-7f14-4b96-9c8d-56d5b49fc57a</td>\n",
       "      <td>Salary_prediction</td>\n",
       "      <td>2023-08-26T14:01:31.184Z</td>\n",
       "    </tr>\n",
       "    <tr>\n",
       "      <th>1</th>\n",
       "      <td>533b833a-a4c6-4d55-921c-b42603766374</td>\n",
       "      <td>Placement_prediction</td>\n",
       "      <td>2023-08-24T16:33:22.454Z</td>\n",
       "    </tr>\n",
       "  </tbody>\n",
       "</table>\n",
       "</div>"
      ],
      "text/plain": [
       "                                     ID                  NAME  \\\n",
       "0  98d205c3-7f14-4b96-9c8d-56d5b49fc57a     Salary_prediction   \n",
       "1  533b833a-a4c6-4d55-921c-b42603766374  Placement_prediction   \n",
       "\n",
       "                    CREATED  \n",
       "0  2023-08-26T14:01:31.184Z  \n",
       "1  2023-08-24T16:33:22.454Z  "
      ]
     },
     "execution_count": 88,
     "metadata": {},
     "output_type": "execute_result"
    }
   ],
   "source": [
    "wml_client.spaces.list()"
   ]
  },
  {
   "cell_type": "code",
   "execution_count": 89,
   "metadata": {
    "colab": {
     "base_uri": "https://localhost:8080/",
     "height": 990
    },
    "id": "lg2UMalRKxU2",
    "outputId": "28264c2b-fdcb-4acd-f771-21191525d8bb"
   },
   "outputs": [],
   "source": [
    "SPACE_ID=\"533b833a-a4c6-4d55-921c-b42603766374\""
   ]
  },
  {
   "cell_type": "code",
   "execution_count": 90,
   "metadata": {
    "id": "X7xHmbkWPZFr"
   },
   "outputs": [
    {
     "data": {
      "text/plain": [
       "'SUCCESS'"
      ]
     },
     "execution_count": 90,
     "metadata": {},
     "output_type": "execute_result"
    }
   ],
   "source": [
    "wml_client.set.default_space(SPACE_ID)"
   ]
  },
  {
   "cell_type": "code",
   "execution_count": 91,
   "metadata": {
    "colab": {
     "base_uri": "https://localhost:8080/",
     "height": 210
    },
    "id": "GYzfFoohTWw7",
    "outputId": "ebfb54d0-24f6-4ff4-d222-5e9181a12d78"
   },
   "outputs": [],
   "source": [
    "MODEL_NAME='placement'\n",
    "DEPLOYMENT_NAME='deploy1'\n",
    "BEST_MODEL=model"
   ]
  },
  {
   "cell_type": "code",
   "execution_count": 92,
   "metadata": {
    "id": "2SjIc17BguZ-"
   },
   "outputs": [],
   "source": [
    "software_spec_uid= wml_client.software_specifications.get_id_by_name('runtime-22.2-py3.10')"
   ]
  },
  {
   "cell_type": "code",
   "execution_count": 93,
   "metadata": {
    "id": "Xoa3QzG8gxsG"
   },
   "outputs": [],
   "source": [
    "model_pros={\n",
    "    wml_client.repository.ModelMetaNames.NAME:MODEL_NAME,\n",
    "    wml_client.repository.ModelMetaNames.TYPE: 'scikit-learn_1.1',\n",
    "    wml_client.repository.ModelMetaNames.SOFTWARE_SPEC_UID:software_spec_uid\n",
    "}"
   ]
  },
  {
   "cell_type": "code",
   "execution_count": 94,
   "metadata": {},
   "outputs": [],
   "source": [
    "model_details = wml_client.repository.store_model(\n",
    "    model=BEST_MODEL,\n",
    "    meta_props=model_pros,\n",
    "    training_data=X_train,\n",
    "    training_target=y_train\n",
    ")"
   ]
  },
  {
   "cell_type": "code",
   "execution_count": 95,
   "metadata": {},
   "outputs": [
    {
     "data": {
      "text/plain": [
       "{'entity': {'hybrid_pipeline_software_specs': [],\n",
       "  'label_column': 'is_placed',\n",
       "  'schemas': {'input': [{'fields': [{'name': 'tier', 'type': 'int64'},\n",
       "      {'name': 'cgpa', 'type': 'float64'},\n",
       "      {'name': 'inter_gpa', 'type': 'float64'},\n",
       "      {'name': 'ssc_gpa', 'type': 'float64'},\n",
       "      {'name': 'internships', 'type': 'int64'},\n",
       "      {'name': 'no_of_projects', 'type': 'int64'},\n",
       "      {'name': 'is_participate_hackathon', 'type': 'int64'},\n",
       "      {'name': 'is_participated_extracurricular', 'type': 'int64'},\n",
       "      {'name': 'no_of_programming_languages', 'type': 'int64'},\n",
       "      {'name': 'dsa', 'type': 'int64'},\n",
       "      {'name': 'mobile_dev', 'type': 'int64'},\n",
       "      {'name': 'web_dev', 'type': 'int64'},\n",
       "      {'name': 'Machine Learning', 'type': 'int64'},\n",
       "      {'name': 'cloud', 'type': 'int64'},\n",
       "      {'name': 'CSE', 'type': 'uint8'},\n",
       "      {'name': 'ECE', 'type': 'uint8'},\n",
       "      {'name': 'IT', 'type': 'uint8'},\n",
       "      {'name': 'MECH', 'type': 'uint8'}],\n",
       "     'id': '1',\n",
       "     'type': 'struct'}],\n",
       "   'output': []},\n",
       "  'software_spec': {'id': 'b56101f1-309d-549b-a849-eaa63f77b2fb',\n",
       "   'name': 'runtime-22.2-py3.10'},\n",
       "  'training_data_references': [{'id': '1',\n",
       "    'location': {},\n",
       "    'schema': {'fields': [{'name': 'tier', 'type': 'int64'},\n",
       "      {'name': 'cgpa', 'type': 'float64'},\n",
       "      {'name': 'inter_gpa', 'type': 'float64'},\n",
       "      {'name': 'ssc_gpa', 'type': 'float64'},\n",
       "      {'name': 'internships', 'type': 'int64'},\n",
       "      {'name': 'no_of_projects', 'type': 'int64'},\n",
       "      {'name': 'is_participate_hackathon', 'type': 'int64'},\n",
       "      {'name': 'is_participated_extracurricular', 'type': 'int64'},\n",
       "      {'name': 'no_of_programming_languages', 'type': 'int64'},\n",
       "      {'name': 'dsa', 'type': 'int64'},\n",
       "      {'name': 'mobile_dev', 'type': 'int64'},\n",
       "      {'name': 'web_dev', 'type': 'int64'},\n",
       "      {'name': 'Machine Learning', 'type': 'int64'},\n",
       "      {'name': 'cloud', 'type': 'int64'},\n",
       "      {'name': 'CSE', 'type': 'uint8'},\n",
       "      {'name': 'ECE', 'type': 'uint8'},\n",
       "      {'name': 'IT', 'type': 'uint8'},\n",
       "      {'name': 'MECH', 'type': 'uint8'}],\n",
       "     'id': '1',\n",
       "     'type': 'DataFrame'},\n",
       "    'type': 'container'}],\n",
       "  'type': 'scikit-learn_1.1'},\n",
       " 'metadata': {'created_at': '2023-08-31T07:26:17.397Z',\n",
       "  'id': 'a9628e6b-e0fb-451f-8d52-94d599d1e008',\n",
       "  'modified_at': '2023-08-31T07:26:18.926Z',\n",
       "  'name': 'placement',\n",
       "  'owner': 'IBMid-668001BWKB',\n",
       "  'resource_key': '92f39b7c-5c52-4496-ae82-7639be81c88b',\n",
       "  'space_id': '533b833a-a4c6-4d55-921c-b42603766374'},\n",
       " 'system': {'warnings': []}}"
      ]
     },
     "execution_count": 95,
     "metadata": {},
     "output_type": "execute_result"
    }
   ],
   "source": [
    "model_details"
   ]
  },
  {
   "cell_type": "code",
   "execution_count": 96,
   "metadata": {},
   "outputs": [
    {
     "data": {
      "text/plain": [
       "'a9628e6b-e0fb-451f-8d52-94d599d1e008'"
      ]
     },
     "execution_count": 96,
     "metadata": {},
     "output_type": "execute_result"
    }
   ],
   "source": [
    "model_uid = wml_client.repository.get_model_id(model_details)\n",
    "model_uid"
   ]
  },
  {
   "cell_type": "code",
   "execution_count": 97,
   "metadata": {},
   "outputs": [],
   "source": [
    "deployment_props={\n",
    "    wml_client.deployments.ConfigurationMetaNames.NAME:DEPLOYMENT_NAME,\n",
    "    wml_client.deployments.ConfigurationMetaNames.ONLINE:{}\n",
    "}"
   ]
  },
  {
   "cell_type": "code",
   "execution_count": 98,
   "metadata": {},
   "outputs": [
    {
     "name": "stdout",
     "output_type": "stream",
     "text": [
      "\n",
      "\n",
      "#######################################################################################\n",
      "\n",
      "Synchronous deployment creation for uid: 'a9628e6b-e0fb-451f-8d52-94d599d1e008' started\n",
      "\n",
      "#######################################################################################\n",
      "\n",
      "\n",
      "initializing\n",
      "Note: online_url is deprecated and will be removed in a future release. Use serving_urls instead.\n",
      "\n",
      "ready\n",
      "\n",
      "\n",
      "------------------------------------------------------------------------------------------------\n",
      "Successfully finished deployment creation, deployment_uid='f266280b-2055-4112-8ad6-3facb3934342'\n",
      "------------------------------------------------------------------------------------------------\n",
      "\n",
      "\n"
     ]
    }
   ],
   "source": [
    "placement_deploy = wml_client.deployments.create(\n",
    "     artifact_uid = model_uid,\n",
    "     meta_props=deployment_props\n",
    ")"
   ]
  },
  {
   "cell_type": "code",
   "execution_count": 99,
   "metadata": {},
   "outputs": [],
   "source": [
    "import sklearn"
   ]
  },
  {
   "cell_type": "code",
   "execution_count": 100,
   "metadata": {},
   "outputs": [
    {
     "data": {
      "text/plain": [
       "'1.1.1'"
      ]
     },
     "execution_count": 100,
     "metadata": {},
     "output_type": "execute_result"
    }
   ],
   "source": [
    "sklearn.__version__"
   ]
  },
  {
   "cell_type": "code",
   "execution_count": null,
   "metadata": {},
   "outputs": [],
   "source": []
  },
  {
   "cell_type": "code",
   "execution_count": null,
   "metadata": {},
   "outputs": [],
   "source": []
  }
 ],
 "metadata": {
  "colab": {
   "provenance": []
  },
  "kernelspec": {
   "display_name": "Python 3 (ipykernel)",
   "language": "python",
   "name": "python3"
  },
  "language_info": {
   "codemirror_mode": {
    "name": "ipython",
    "version": 3
   },
   "file_extension": ".py",
   "mimetype": "text/x-python",
   "name": "python",
   "nbconvert_exporter": "python",
   "pygments_lexer": "ipython3",
   "version": "3.9.4"
  }
 },
 "nbformat": 4,
 "nbformat_minor": 1
}
